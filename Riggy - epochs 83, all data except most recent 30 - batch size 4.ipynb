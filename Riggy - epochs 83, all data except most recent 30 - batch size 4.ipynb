{
 "cells": [
  {
   "cell_type": "code",
   "execution_count": 1,
   "metadata": {},
   "outputs": [],
   "source": [
    "import numpy as np\n",
    "import pandas as pd\n",
    "import matplotlib.pyplot as plt\n",
    "\n",
    "%matplotlib inline\n",
    "from statsmodels.tsa.statespace.sarimax import SARIMAX\n",
    "from statsmodels.tsa.arima_model import ARMA,ARMAResults,ARIMA,ARIMAResults\n",
    "\n",
    "from statsmodels.graphics.tsaplots import plot_acf,plot_pacf # for determining (p,q) orders\n",
    "from statsmodels.tsa.seasonal import seasonal_decompose      # for ETS Plots\n",
    "\n",
    "# Load specific evaluation tools\n",
    "from sklearn.metrics import mean_squared_error\n",
    "from statsmodels.tools.eval_measures import rmse\n",
    "\n",
    "from mpl_toolkits.mplot3d import Axes3D"
   ]
  },
  {
   "cell_type": "code",
   "execution_count": 2,
   "metadata": {},
   "outputs": [],
   "source": [
    "import tensorflow"
   ]
  },
  {
   "cell_type": "code",
   "execution_count": null,
   "metadata": {},
   "outputs": [],
   "source": []
  },
  {
   "cell_type": "code",
   "execution_count": 3,
   "metadata": {},
   "outputs": [],
   "source": [
    "data = pd.read_csv(r'DNEdited_weekly_rigs_and_oil_price.csv')\n",
    "\n",
    "d_time = data['Date'] #time\n",
    "d_rigs = data['Rigs_Count'] #rigs count column, y, index: 0\n",
    "d_price_WTI = data['WTI_Oil_Price'] #price column, x, index: 1\n",
    "d_price_Brent = data['Brent_Oil_Price']\n",
    "\n",
    "data.set_index('Date',inplace = True)\n",
    "\n",
    "train = data.iloc[30:,[0,2]]\n",
    "test = data.iloc[0:30,[0,2]]\n",
    "train = pd.DataFrame(train)\n",
    "test = pd.DataFrame(test)\n",
    "\n",
    "train.set_index('WTI_Oil_Price',inplace = True)\n",
    "test.set_index('WTI_Oil_Price',inplace = True)"
   ]
  },
  {
   "cell_type": "code",
   "execution_count": 4,
   "metadata": {},
   "outputs": [
    {
     "data": {
      "text/html": [
       "<div>\n",
       "<style scoped>\n",
       "    .dataframe tbody tr th:only-of-type {\n",
       "        vertical-align: middle;\n",
       "    }\n",
       "\n",
       "    .dataframe tbody tr th {\n",
       "        vertical-align: top;\n",
       "    }\n",
       "\n",
       "    .dataframe thead th {\n",
       "        text-align: right;\n",
       "    }\n",
       "</style>\n",
       "<table border=\"1\" class=\"dataframe\">\n",
       "  <thead>\n",
       "    <tr style=\"text-align: right;\">\n",
       "      <th></th>\n",
       "      <th>Rigs_Count</th>\n",
       "    </tr>\n",
       "    <tr>\n",
       "      <th>WTI_Oil_Price</th>\n",
       "      <th></th>\n",
       "    </tr>\n",
       "  </thead>\n",
       "  <tbody>\n",
       "    <tr>\n",
       "      <th>52.69</th>\n",
       "      <td>790</td>\n",
       "    </tr>\n",
       "    <tr>\n",
       "      <th>56.15</th>\n",
       "      <td>794</td>\n",
       "    </tr>\n",
       "    <tr>\n",
       "      <th>58.29</th>\n",
       "      <td>796</td>\n",
       "    </tr>\n",
       "    <tr>\n",
       "      <th>60.84</th>\n",
       "      <td>781</td>\n",
       "    </tr>\n",
       "    <tr>\n",
       "      <th>61.74</th>\n",
       "      <td>796</td>\n",
       "    </tr>\n",
       "    <tr>\n",
       "      <th>...</th>\n",
       "      <td>...</td>\n",
       "    </tr>\n",
       "    <tr>\n",
       "      <th>20.80</th>\n",
       "      <td>998</td>\n",
       "    </tr>\n",
       "    <tr>\n",
       "      <th>21.52</th>\n",
       "      <td>983</td>\n",
       "    </tr>\n",
       "    <tr>\n",
       "      <th>21.25</th>\n",
       "      <td>973</td>\n",
       "    </tr>\n",
       "    <tr>\n",
       "      <th>21.50</th>\n",
       "      <td>917</td>\n",
       "    </tr>\n",
       "    <tr>\n",
       "      <th>22.03</th>\n",
       "      <td>922</td>\n",
       "    </tr>\n",
       "  </tbody>\n",
       "</table>\n",
       "<p>1699 rows × 1 columns</p>\n",
       "</div>"
      ],
      "text/plain": [
       "               Rigs_Count\n",
       "WTI_Oil_Price            \n",
       "52.69                 790\n",
       "56.15                 794\n",
       "58.29                 796\n",
       "60.84                 781\n",
       "61.74                 796\n",
       "...                   ...\n",
       "20.80                 998\n",
       "21.52                 983\n",
       "21.25                 973\n",
       "21.50                 917\n",
       "22.03                 922\n",
       "\n",
       "[1699 rows x 1 columns]"
      ]
     },
     "execution_count": 4,
     "metadata": {},
     "output_type": "execute_result"
    }
   ],
   "source": [
    "#data.head()\n",
    "#train.head()\n",
    "train"
   ]
  },
  {
   "cell_type": "code",
   "execution_count": 5,
   "metadata": {},
   "outputs": [
    {
     "data": {
      "text/html": [
       "<div>\n",
       "<style scoped>\n",
       "    .dataframe tbody tr th:only-of-type {\n",
       "        vertical-align: middle;\n",
       "    }\n",
       "\n",
       "    .dataframe tbody tr th {\n",
       "        vertical-align: top;\n",
       "    }\n",
       "\n",
       "    .dataframe thead th {\n",
       "        text-align: right;\n",
       "    }\n",
       "</style>\n",
       "<table border=\"1\" class=\"dataframe\">\n",
       "  <thead>\n",
       "    <tr style=\"text-align: right;\">\n",
       "      <th></th>\n",
       "      <th>Rigs_Count</th>\n",
       "    </tr>\n",
       "    <tr>\n",
       "      <th>WTI_Oil_Price</th>\n",
       "      <th></th>\n",
       "    </tr>\n",
       "  </thead>\n",
       "  <tbody>\n",
       "    <tr>\n",
       "      <th>52.69</th>\n",
       "      <td>790</td>\n",
       "    </tr>\n",
       "    <tr>\n",
       "      <th>56.15</th>\n",
       "      <td>794</td>\n",
       "    </tr>\n",
       "    <tr>\n",
       "      <th>58.29</th>\n",
       "      <td>796</td>\n",
       "    </tr>\n",
       "    <tr>\n",
       "      <th>60.84</th>\n",
       "      <td>781</td>\n",
       "    </tr>\n",
       "    <tr>\n",
       "      <th>61.74</th>\n",
       "      <td>796</td>\n",
       "    </tr>\n",
       "    <tr>\n",
       "      <th>...</th>\n",
       "      <td>...</td>\n",
       "    </tr>\n",
       "    <tr>\n",
       "      <th>20.80</th>\n",
       "      <td>998</td>\n",
       "    </tr>\n",
       "    <tr>\n",
       "      <th>21.52</th>\n",
       "      <td>983</td>\n",
       "    </tr>\n",
       "    <tr>\n",
       "      <th>21.25</th>\n",
       "      <td>973</td>\n",
       "    </tr>\n",
       "    <tr>\n",
       "      <th>21.50</th>\n",
       "      <td>917</td>\n",
       "    </tr>\n",
       "    <tr>\n",
       "      <th>22.03</th>\n",
       "      <td>922</td>\n",
       "    </tr>\n",
       "  </tbody>\n",
       "</table>\n",
       "<p>1699 rows × 1 columns</p>\n",
       "</div>"
      ],
      "text/plain": [
       "               Rigs_Count\n",
       "WTI_Oil_Price            \n",
       "52.69                 790\n",
       "56.15                 794\n",
       "58.29                 796\n",
       "60.84                 781\n",
       "61.74                 796\n",
       "...                   ...\n",
       "20.80                 998\n",
       "21.52                 983\n",
       "21.25                 973\n",
       "21.50                 917\n",
       "22.03                 922\n",
       "\n",
       "[1699 rows x 1 columns]"
      ]
     },
     "execution_count": 5,
     "metadata": {},
     "output_type": "execute_result"
    }
   ],
   "source": [
    "train"
   ]
  },
  {
   "cell_type": "code",
   "execution_count": 6,
   "metadata": {},
   "outputs": [
    {
     "name": "stderr",
     "output_type": "stream",
     "text": [
      "C:\\Users\\thuyd\\anaconda3\\lib\\site-packages\\pandas\\plotting\\_matplotlib\\core.py:1235: UserWarning: FixedFormatter should only be used together with FixedLocator\n",
      "  ax.set_xticklabels(xticklabels)\n"
     ]
    },
    {
     "data": {
      "text/plain": [
       "<AxesSubplot:xlabel='Date'>"
      ]
     },
     "execution_count": 6,
     "metadata": {},
     "output_type": "execute_result"
    },
    {
     "data": {
      "image/png": "[encoded data removed]",
      "text/plain": [
       "<Figure size 864x360 with 1 Axes>"
      ]
     },
     "metadata": {
      "needs_background": "light"
     },
     "output_type": "display_data"
    }
   ],
   "source": [
    "data['WTI_Oil_Price'].plot(figsize=(12,5))"
   ]
  },
  {
   "cell_type": "code",
   "execution_count": 7,
   "metadata": {},
   "outputs": [
    {
     "name": "stderr",
     "output_type": "stream",
     "text": [
      "C:\\Users\\thuyd\\anaconda3\\lib\\site-packages\\pandas\\plotting\\_matplotlib\\core.py:1235: UserWarning: FixedFormatter should only be used together with FixedLocator\n",
      "  ax.set_xticklabels(xticklabels)\n"
     ]
    },
    {
     "data": {
      "text/plain": [
       "<AxesSubplot:xlabel='Date'>"
      ]
     },
     "execution_count": 7,
     "metadata": {},
     "output_type": "execute_result"
    },
    {
     "data": {
      "image/png": "[encoded data removed]",
      "text/plain": [
       "<Figure size 864x360 with 1 Axes>"
      ]
     },
     "metadata": {
      "needs_background": "light"
     },
     "output_type": "display_data"
    }
   ],
   "source": [
    "data['Rigs_Count'].plot(figsize=(12,5))"
   ]
  },
  {
   "cell_type": "code",
   "execution_count": 8,
   "metadata": {},
   "outputs": [],
   "source": [
    "#Axes3D.scatter(d_price_WTI, d_rigs, zs=0, zdir='z', s=20, c=None, depthshade=True)\n",
    "\n",
    "# d_time = data['Date'] #time\n",
    "# d_rigs = data['Rigs_Count'] #rigs count column, y, index: 0\n",
    "# d_price_WTI = data['WTI_Oil_Price'] #price column, x, index: 1\n",
    "# d_price_Brent"
   ]
  },
  {
   "cell_type": "code",
   "execution_count": 9,
   "metadata": {},
   "outputs": [
    {
     "data": {
      "text/plain": [
       "MinMaxScaler()"
      ]
     },
     "execution_count": 9,
     "metadata": {},
     "output_type": "execute_result"
    }
   ],
   "source": [
    "from sklearn.preprocessing import MinMaxScaler\n",
    "scaler = MinMaxScaler()#this is a must\n",
    "scaler.fit(train)#scaler only takes dataframe intead of series"
   ]
  },
  {
   "cell_type": "code",
   "execution_count": 10,
   "metadata": {},
   "outputs": [],
   "source": [
    "scaled_train = scaler.transform(train)\n",
    "scaled_test = scaler.transform(test)"
   ]
  },
  {
   "cell_type": "code",
   "execution_count": 11,
   "metadata": {},
   "outputs": [],
   "source": [
    "# df_scaled_train = pd.DataFrame(scaled_train)\n",
    "# df_scaled_train.plot(figsize=(12,5))\n",
    "# train.plot(figsize=(12,5))"
   ]
  },
  {
   "cell_type": "code",
   "execution_count": 12,
   "metadata": {},
   "outputs": [],
   "source": [
    "from keras.preprocessing.sequence import TimeseriesGenerator #what is this"
   ]
  },
  {
   "cell_type": "code",
   "execution_count": 13,
   "metadata": {},
   "outputs": [],
   "source": [
    "# define generator, equally spaced data rows\n",
    "n_input = 30\n",
    "n_features = 1\n",
    "#batch size too large will overfit\n",
    "generator = TimeseriesGenerator(scaled_train, scaled_train, length=n_input, batch_size=4)"
   ]
  },
  {
   "cell_type": "code",
   "execution_count": 14,
   "metadata": {},
   "outputs": [
    {
     "name": "stdout",
     "output_type": "stream",
     "text": [
      "Given the Array: \n",
      "[0.23724647 0.23970498 0.24093423 0.23171481 0.24093423 0.24646589\n",
      " 0.25138291 0.24277812 0.24277812 0.244622   0.24523663 0.24708052\n",
      " 0.25384143 0.25691457 0.26183159 0.27473878 0.27781192 0.2771973\n",
      " 0.28027044 0.28518746 0.29625077 0.30362631 0.30731407 0.31468961\n",
      " 0.32636755 0.32575292 0.33066994 0.33312846 0.33804548 0.340504\n",
      " 0.23970498 0.24093423 0.23171481 0.24093423 0.24646589 0.25138291\n",
      " 0.24277812 0.24277812 0.244622   0.24523663 0.24708052 0.25384143\n",
      " 0.25691457 0.26183159 0.27473878 0.27781192 0.2771973  0.28027044\n",
      " 0.28518746 0.29625077 0.30362631 0.30731407 0.31468961 0.32636755\n",
      " 0.32575292 0.33066994 0.33312846 0.33804548 0.340504   0.34357714\n",
      " 0.24093423 0.23171481 0.24093423 0.24646589 0.25138291 0.24277812\n",
      " 0.24277812 0.244622   0.24523663 0.24708052 0.25384143 0.25691457\n",
      " 0.26183159 0.27473878 0.27781192 0.2771973  0.28027044 0.28518746\n",
      " 0.29625077 0.30362631 0.30731407 0.31468961 0.32636755 0.32575292\n",
      " 0.33066994 0.33312846 0.33804548 0.340504   0.34357714 0.34603565\n",
      " 0.23171481 0.24093423 0.24646589 0.25138291 0.24277812 0.24277812\n",
      " 0.244622   0.24523663 0.24708052 0.25384143 0.25691457 0.26183159\n",
      " 0.27473878 0.27781192 0.2771973  0.28027044 0.28518746 0.29625077\n",
      " 0.30362631 0.30731407 0.31468961 0.32636755 0.32575292 0.33066994\n",
      " 0.33312846 0.33804548 0.340504   0.34357714 0.34603565 0.34603565]\n",
      "Predict this y: \n",
      " [[0.34357714]\n",
      " [0.34603565]\n",
      " [0.34603565]\n",
      " [0.3472649 ]]\n"
     ]
    }
   ],
   "source": [
    "X,y = generator[0]\n",
    "print(f'Given the Array: \\n{X.flatten()}')\n",
    "print(f'Predict this y: \\n {y}')"
   ]
  },
  {
   "cell_type": "code",
   "execution_count": 15,
   "metadata": {},
   "outputs": [],
   "source": [
    "from keras.models import Sequential\n",
    "from keras.layers import Dense, LSTM\n",
    "from keras.layers import Dropout"
   ]
  },
  {
   "cell_type": "code",
   "execution_count": 16,
   "metadata": {},
   "outputs": [],
   "source": [
    "n_input = 30\n",
    "n_features = 1\n",
    "#batch size too large will overfit\n",
    "train_generator = TimeseriesGenerator(scaled_train, scaled_train, length=n_input, batch_size=4)"
   ]
  },
  {
   "cell_type": "code",
   "execution_count": 17,
   "metadata": {},
   "outputs": [],
   "source": [
    "model = Sequential()\n",
    "model.add(LSTM(150, activation='relu', return_sequences = True, input_shape=(n_input, n_features)))\n",
    "model.add(Dropout(0.2))\n",
    "\n",
    "model.add(LSTM(150, return_sequences = True))\n",
    "model.add(Dropout(0.2))\n",
    "\n",
    "model.add(LSTM(150, return_sequences = True))\n",
    "model.add(Dropout(0.2))\n",
    "\n",
    "model.add(LSTM(150))\n",
    "model.add(Dropout(0.2))\n",
    "\n",
    "model.add(Dense(1))\n",
    "model.compile(optimizer='adam', loss='mse')"
   ]
  },
  {
   "cell_type": "code",
   "execution_count": 18,
   "metadata": {},
   "outputs": [
    {
     "name": "stdout",
     "output_type": "stream",
     "text": [
      "Model: \"sequential\"\n",
      "_________________________________________________________________\n",
      "Layer (type)                 Output Shape              Param #   \n",
      "=================================================================\n",
      "lstm (LSTM)                  (None, 30, 150)           91200     \n",
      "_________________________________________________________________\n",
      "dropout (Dropout)            (None, 30, 150)           0         \n",
      "_________________________________________________________________\n",
      "lstm_1 (LSTM)                (None, 30, 150)           180600    \n",
      "_________________________________________________________________\n",
      "dropout_1 (Dropout)          (None, 30, 150)           0         \n",
      "_________________________________________________________________\n",
      "lstm_2 (LSTM)                (None, 30, 150)           180600    \n",
      "_________________________________________________________________\n",
      "dropout_2 (Dropout)          (None, 30, 150)           0         \n",
      "_________________________________________________________________\n",
      "lstm_3 (LSTM)                (None, 150)               180600    \n",
      "_________________________________________________________________\n",
      "dropout_3 (Dropout)          (None, 150)               0         \n",
      "_________________________________________________________________\n",
      "dense (Dense)                (None, 1)                 151       \n",
      "=================================================================\n",
      "Total params: 633,151\n",
      "Trainable params: 633,151\n",
      "Non-trainable params: 0\n",
      "_________________________________________________________________\n"
     ]
    }
   ],
   "source": [
    "model.summary()"
   ]
  },
  {
   "cell_type": "code",
   "execution_count": 19,
   "metadata": {},
   "outputs": [
    {
     "name": "stdout",
     "output_type": "stream",
     "text": [
      "WARNING:tensorflow:From <ipython-input-19-0cf8cbed8be0>:1: Model.fit_generator (from tensorflow.python.keras.engine.training) is deprecated and will be removed in a future version.\n",
      "Instructions for updating:\n",
      "Please use Model.fit, which supports generators.\n",
      "Epoch 1/83\n",
      "418/418 [==============================] - 42s 100ms/step - loss: 0.0158\n",
      "Epoch 2/83\n",
      "418/418 [==============================] - 42s 101ms/step - loss: 0.0073\n",
      "Epoch 3/83\n",
      "418/418 [==============================] - 42s 100ms/step - loss: 0.0042\n",
      "Epoch 4/83\n",
      "418/418 [==============================] - 43s 102ms/step - loss: 0.0032\n",
      "Epoch 5/83\n",
      "418/418 [==============================] - 43s 102ms/step - loss: 0.0028\n",
      "Epoch 6/83\n",
      "418/418 [==============================] - 44s 104ms/step - loss: 0.0032\n",
      "Epoch 7/83\n",
      "418/418 [==============================] - 43s 103ms/step - loss: 0.0022\n",
      "Epoch 8/83\n",
      "418/418 [==============================] - 43s 102ms/step - loss: 0.0021\n",
      "Epoch 9/83\n",
      "418/418 [==============================] - 43s 103ms/step - loss: 0.0028\n",
      "Epoch 10/83\n",
      "418/418 [==============================] - 44s 104ms/step - loss: 0.0024\n",
      "Epoch 11/83\n",
      "418/418 [==============================] - 43s 102ms/step - loss: 0.0015\n",
      "Epoch 12/83\n",
      "418/418 [==============================] - 43s 102ms/step - loss: 0.0029\n",
      "Epoch 13/83\n",
      "418/418 [==============================] - 42s 101ms/step - loss: 0.0020\n",
      "Epoch 14/83\n",
      "418/418 [==============================] - 41s 99ms/step - loss: 0.0016\n",
      "Epoch 15/83\n",
      "418/418 [==============================] - 42s 101ms/step - loss: 0.0016\n",
      "Epoch 16/83\n",
      "418/418 [==============================] - 42s 102ms/step - loss: 0.0022\n",
      "Epoch 17/83\n",
      "418/418 [==============================] - 42s 101ms/step - loss: 0.0022\n",
      "Epoch 18/83\n",
      "418/418 [==============================] - 43s 103ms/step - loss: 0.0019\n",
      "Epoch 19/83\n",
      "418/418 [==============================] - 41s 99ms/step - loss: 0.0015\n",
      "Epoch 20/83\n",
      "418/418 [==============================] - 41s 99ms/step - loss: 0.0022\n",
      "Epoch 21/83\n",
      "418/418 [==============================] - 43s 102ms/step - loss: 0.0014\n",
      "Epoch 22/83\n",
      "418/418 [==============================] - 42s 100ms/step - loss: 0.0017\n",
      "Epoch 23/83\n",
      "418/418 [==============================] - 42s 101ms/step - loss: 0.0014\n",
      "Epoch 24/83\n",
      "418/418 [==============================] - 43s 103ms/step - loss: 0.0013\n",
      "Epoch 25/83\n",
      "418/418 [==============================] - 42s 101ms/step - loss: 0.0015\n",
      "Epoch 26/83\n",
      "418/418 [==============================] - 42s 101ms/step - loss: 0.0015\n",
      "Epoch 27/83\n",
      "418/418 [==============================] - 43s 102ms/step - loss: 0.0014\n",
      "Epoch 28/83\n",
      "418/418 [==============================] - 43s 102ms/step - loss: 0.0015\n",
      "Epoch 29/83\n",
      "418/418 [==============================] - 42s 101ms/step - loss: 0.0013\n",
      "Epoch 30/83\n",
      "418/418 [==============================] - 43s 102ms/step - loss: 0.0011\n",
      "Epoch 31/83\n",
      "418/418 [==============================] - 42s 101ms/step - loss: 0.0015\n",
      "Epoch 32/83\n",
      "418/418 [==============================] - 42s 101ms/step - loss: 0.0015\n",
      "Epoch 33/83\n",
      "418/418 [==============================] - 42s 102ms/step - loss: 0.0013\n",
      "Epoch 34/83\n",
      "418/418 [==============================] - 39s 93ms/step - loss: 0.0016\n",
      "Epoch 35/83\n",
      "418/418 [==============================] - 31s 75ms/step - loss: 0.0013\n",
      "Epoch 36/83\n",
      "418/418 [==============================] - 31s 74ms/step - loss: 0.0013\n",
      "Epoch 37/83\n",
      "418/418 [==============================] - 31s 74ms/step - loss: 0.0014\n",
      "Epoch 38/83\n",
      "418/418 [==============================] - 31s 74ms/step - loss: 0.0011\n",
      "Epoch 39/83\n",
      "418/418 [==============================] - 31s 74ms/step - loss: 0.0011\n",
      "Epoch 40/83\n",
      "418/418 [==============================] - 31s 74ms/step - loss: 0.0010\n",
      "Epoch 41/83\n",
      "418/418 [==============================] - 31s 74ms/step - loss: 0.0012\n",
      "Epoch 42/83\n",
      "418/418 [==============================] - 31s 75ms/step - loss: 0.0013\n",
      "Epoch 43/83\n",
      "418/418 [==============================] - 31s 75ms/step - loss: 0.0013\n",
      "Epoch 44/83\n",
      "418/418 [==============================] - 32s 75ms/step - loss: 0.0013\n",
      "Epoch 45/83\n",
      "418/418 [==============================] - 31s 74ms/step - loss: 9.8706e-04\n",
      "Epoch 46/83\n",
      "418/418 [==============================] - 31s 74ms/step - loss: 0.0010\n",
      "Epoch 47/83\n",
      "418/418 [==============================] - 32s 76ms/step - loss: 9.8744e-04\n",
      "Epoch 48/83\n",
      "418/418 [==============================] - 31s 74ms/step - loss: 0.0011\n",
      "Epoch 49/83\n",
      "418/418 [==============================] - 31s 74ms/step - loss: 0.0011\n",
      "Epoch 50/83\n",
      "418/418 [==============================] - 32s 77ms/step - loss: 0.0010\n",
      "Epoch 51/83\n",
      "418/418 [==============================] - 32s 76ms/step - loss: 7.8616e-04\n",
      "Epoch 52/83\n",
      "418/418 [==============================] - 31s 75ms/step - loss: 0.0011\n",
      "Epoch 53/83\n",
      "418/418 [==============================] - 31s 74ms/step - loss: 0.0011\n",
      "Epoch 54/83\n",
      "418/418 [==============================] - 31s 75ms/step - loss: 0.0011\n",
      "Epoch 55/83\n",
      "418/418 [==============================] - 31s 75ms/step - loss: 7.8585e-04\n",
      "Epoch 56/83\n",
      "418/418 [==============================] - 31s 75ms/step - loss: 9.3694e-04\n",
      "Epoch 57/83\n",
      "418/418 [==============================] - 31s 75ms/step - loss: 0.0012\n",
      "Epoch 58/83\n",
      "418/418 [==============================] - 32s 76ms/step - loss: 9.8304e-04\n",
      "Epoch 59/83\n",
      "418/418 [==============================] - 31s 75ms/step - loss: 9.7738e-04\n",
      "Epoch 60/83\n",
      "418/418 [==============================] - 31s 75ms/step - loss: 9.0456e-04\n",
      "Epoch 61/83\n",
      "418/418 [==============================] - 31s 74ms/step - loss: 8.7646e-04\n",
      "Epoch 62/83\n",
      "418/418 [==============================] - 32s 76ms/step - loss: 9.5094e-04\n",
      "Epoch 63/83\n",
      "418/418 [==============================] - 31s 74ms/step - loss: 8.0132e-04\n",
      "Epoch 64/83\n",
      "418/418 [==============================] - 31s 75ms/step - loss: 0.0011\n",
      "Epoch 65/83\n",
      "418/418 [==============================] - 31s 75ms/step - loss: 8.9304e-04\n",
      "Epoch 66/83\n",
      "418/418 [==============================] - 32s 76ms/step - loss: 0.0010\n",
      "Epoch 67/83\n",
      "418/418 [==============================] - 31s 74ms/step - loss: 9.6562e-04\n",
      "Epoch 68/83\n",
      "418/418 [==============================] - 31s 75ms/step - loss: 7.4156e-04\n",
      "Epoch 69/83\n",
      "418/418 [==============================] - 32s 76ms/step - loss: 8.1822e-04\n",
      "Epoch 70/83\n",
      "418/418 [==============================] - 32s 78ms/step - loss: 0.0012\n",
      "Epoch 71/83\n",
      "418/418 [==============================] - 33s 79ms/step - loss: 8.2404e-04\n",
      "Epoch 72/83\n",
      "418/418 [==============================] - 32s 76ms/step - loss: 8.1219e-04\n",
      "Epoch 73/83\n",
      "418/418 [==============================] - 31s 75ms/step - loss: 8.6295e-04\n",
      "Epoch 74/83\n",
      "418/418 [==============================] - 32s 76ms/step - loss: 7.9938e-04\n",
      "Epoch 75/83\n",
      "418/418 [==============================] - 31s 75ms/step - loss: 7.3227e-04\n",
      "Epoch 76/83\n",
      "418/418 [==============================] - 31s 74ms/step - loss: 7.8267e-04\n",
      "Epoch 77/83\n",
      "418/418 [==============================] - 31s 75ms/step - loss: 7.3386e-04\n",
      "Epoch 78/83\n",
      "418/418 [==============================] - 31s 75ms/step - loss: 8.0787e-04\n",
      "Epoch 79/83\n",
      "418/418 [==============================] - 35s 83ms/step - loss: 8.3658e-04\n",
      "Epoch 80/83\n",
      "418/418 [==============================] - 36s 86ms/step - loss: 7.3227e-04\n",
      "Epoch 81/83\n",
      "418/418 [==============================] - 36s 85ms/step - loss: 8.9685e-04\n",
      "Epoch 82/83\n",
      "418/418 [==============================] - 34s 80ms/step - loss: 8.6130e-04\n",
      "Epoch 83/83\n",
      "418/418 [==============================] - 34s 82ms/step - loss: 7.0491e-04\n"
     ]
    },
    {
     "data": {
      "text/plain": [
       "<tensorflow.python.keras.callbacks.History at 0x1ad68936b20>"
      ]
     },
     "execution_count": 19,
     "metadata": {},
     "output_type": "execute_result"
    }
   ],
   "source": [
    "model.fit_generator(train_generator,epochs=83)"
   ]
  },
  {
   "cell_type": "code",
   "execution_count": null,
   "metadata": {},
   "outputs": [],
   "source": []
  },
  {
   "cell_type": "code",
   "execution_count": 20,
   "metadata": {},
   "outputs": [
    {
     "data": {
      "text/plain": [
       "dict_keys(['loss'])"
      ]
     },
     "execution_count": 20,
     "metadata": {},
     "output_type": "execute_result"
    }
   ],
   "source": [
    "model.history.history.keys()"
   ]
  },
  {
   "cell_type": "code",
   "execution_count": 21,
   "metadata": {
    "scrolled": false
   },
   "outputs": [
    {
     "data": {
      "text/plain": [
       "[<matplotlib.lines.Line2D at 0x1ad7e375d00>]"
      ]
     },
     "execution_count": 21,
     "metadata": {},
     "output_type": "execute_result"
    },
    {
     "data": {
      "image/png": "[encoded data removed]",
      "text/plain": [
       "<Figure size 432x288 with 1 Axes>"
      ]
     },
     "metadata": {
      "needs_background": "light"
     },
     "output_type": "display_data"
    }
   ],
   "source": [
    "loss_per_epoch = model.history.history['loss']\n",
    "plt.plot(range(len(loss_per_epoch)),loss_per_epoch)"
   ]
  },
  {
   "cell_type": "code",
   "execution_count": 22,
   "metadata": {},
   "outputs": [
    {
     "data": {
      "image/png": "[encoded data removed]",
      "text/plain": [
       "<Figure size 432x288 with 1 Axes>"
      ]
     },
     "metadata": {
      "needs_background": "light"
     },
     "output_type": "display_data"
    }
   ],
   "source": [
    "def smooth_curve(points, factor=0.9):\n",
    "  smoothed_points = []\n",
    "  for point in points:\n",
    "    if smoothed_points:\n",
    "      previous = smoothed_points[-1]\n",
    "      smoothed_points.append(previous * factor + point * (1 - factor))\n",
    "    else:\n",
    "      smoothed_points.append(point)\n",
    "  return smoothed_points\n",
    "\n",
    "smooth_mae_history = smooth_curve(loss_per_epoch[5:])\n",
    "\n",
    "plt.plot(range(1, len(smooth_mae_history) + 1), smooth_mae_history)\n",
    "plt.xlabel('Epochs')\n",
    "plt.ylabel('Validation MAE')\n",
    "plt.show()"
   ]
  },
  {
   "cell_type": "code",
   "execution_count": 23,
   "metadata": {},
   "outputs": [],
   "source": [
    "# 10 history steps --> step 13\n",
    "# last 10 points in train --> pt 1 in test data\n",
    "first_eval_batch = scaled_train[-n_input:]"
   ]
  },
  {
   "cell_type": "code",
   "execution_count": 24,
   "metadata": {},
   "outputs": [
    {
     "data": {
      "text/plain": [
       "array([[0.35771358],\n",
       "       [0.34419176],\n",
       "       [0.38229871],\n",
       "       [0.3995083 ],\n",
       "       [0.42901045],\n",
       "       [0.44068838],\n",
       "       [0.45543946],\n",
       "       [0.46957591],\n",
       "       [0.47756607],\n",
       "       [0.45974186],\n",
       "       [0.46527351],\n",
       "       [0.45974186],\n",
       "       [0.47326368],\n",
       "       [0.45298095],\n",
       "       [0.44683467],\n",
       "       [0.44622004],\n",
       "       [0.44867855],\n",
       "       [0.4302397 ],\n",
       "       [0.44437615],\n",
       "       [0.42409342],\n",
       "       [0.42839582],\n",
       "       [0.43269822],\n",
       "       [0.42716656],\n",
       "       [0.39643516],\n",
       "       [0.37369392],\n",
       "       [0.36508912],\n",
       "       [0.3558697 ],\n",
       "       [0.34972342],\n",
       "       [0.31530424],\n",
       "       [0.31837738]])"
      ]
     },
     "execution_count": 24,
     "metadata": {},
     "output_type": "execute_result"
    }
   ],
   "source": [
    "first_eval_batch"
   ]
  },
  {
   "cell_type": "code",
   "execution_count": 25,
   "metadata": {},
   "outputs": [],
   "source": [
    "first_eval_batch = first_eval_batch.reshape((1, n_input, n_features))# make it 3 dimensional"
   ]
  },
  {
   "cell_type": "code",
   "execution_count": 26,
   "metadata": {},
   "outputs": [
    {
     "data": {
      "text/plain": [
       "array([[0.30704474]], dtype=float32)"
      ]
     },
     "execution_count": 26,
     "metadata": {},
     "output_type": "execute_result"
    }
   ],
   "source": [
    "model.predict(first_eval_batch)"
   ]
  },
  {
   "cell_type": "code",
   "execution_count": 27,
   "metadata": {},
   "outputs": [
    {
     "data": {
      "text/plain": [
       "array([-0.09219422])"
      ]
     },
     "execution_count": 27,
     "metadata": {},
     "output_type": "execute_result"
    }
   ],
   "source": [
    "scaled_test[0]"
   ]
  },
  {
   "cell_type": "code",
   "execution_count": 28,
   "metadata": {},
   "outputs": [],
   "source": [
    "test_predictions = []\n",
    "\n",
    "# last n_input points from the training set\n",
    "first_eval_batch = scaled_train[-n_input:]\n",
    "\n",
    "# reshape this to the format RNN wants(same format as TimeSeries Generator)\n",
    "current_batch = first_eval_batch.reshape((1, n_input, n_features))\n",
    "\n",
    "#how far into the future will I forecast?\n",
    "#len(test) -->I can also change to 24\n",
    "\n",
    "for i in range(len(test)):\n",
    "    \n",
    "    # get prediction 1 time stamp ahead ([0] is for grabbing just the number instead of [array])\n",
    "    current_pred = model.predict(current_batch)[0]\n",
    "    \n",
    "    # store prediction\n",
    "    test_predictions.append(current_pred) \n",
    "    \n",
    "    # update batch to now include prediction and drop first value\n",
    "    current_batch = np.append(current_batch[:,1:,:],[[current_pred]],axis=1)"
   ]
  },
  {
   "cell_type": "code",
   "execution_count": 29,
   "metadata": {},
   "outputs": [
    {
     "data": {
      "text/plain": [
       "[array([0.30704474], dtype=float32),\n",
       " array([0.29679322], dtype=float32),\n",
       " array([0.28686696], dtype=float32),\n",
       " array([0.2770286], dtype=float32),\n",
       " array([0.267515], dtype=float32),\n",
       " array([0.25844112], dtype=float32),\n",
       " array([0.24995792], dtype=float32),\n",
       " array([0.24245378], dtype=float32),\n",
       " array([0.23620884], dtype=float32),\n",
       " array([0.23136823], dtype=float32),\n",
       " array([0.22800794], dtype=float32),\n",
       " array([0.22606951], dtype=float32),\n",
       " array([0.22541149], dtype=float32),\n",
       " array([0.22588733], dtype=float32),\n",
       " array([0.22738539], dtype=float32),\n",
       " array([0.22979416], dtype=float32),\n",
       " array([0.2329872], dtype=float32),\n",
       " array([0.23688781], dtype=float32),\n",
       " array([0.24139345], dtype=float32),\n",
       " array([0.2464143], dtype=float32),\n",
       " array([0.25184858], dtype=float32),\n",
       " array([0.2576586], dtype=float32),\n",
       " array([0.2637405], dtype=float32),\n",
       " array([0.2699171], dtype=float32),\n",
       " array([0.27621892], dtype=float32),\n",
       " array([0.2829401], dtype=float32),\n",
       " array([0.2902706], dtype=float32),\n",
       " array([0.29848903], dtype=float32),\n",
       " array([0.30780292], dtype=float32),\n",
       " array([0.31825387], dtype=float32)]"
      ]
     },
     "execution_count": 29,
     "metadata": {},
     "output_type": "execute_result"
    }
   ],
   "source": [
    "test_predictions"
   ]
  },
  {
   "cell_type": "code",
   "execution_count": 30,
   "metadata": {},
   "outputs": [
    {
     "data": {
      "text/plain": [
       "array([[-0.09219422],\n",
       "       [-0.09219422],\n",
       "       [-0.0983405 ],\n",
       "       [-0.09649662],\n",
       "       [-0.09403811],\n",
       "       [-0.09403811],\n",
       "       [-0.09280885],\n",
       "       [-0.08973571],\n",
       "       [-0.08666257],\n",
       "       [-0.08543331],\n",
       "       [-0.08481868],\n",
       "       [-0.07682852],\n",
       "       [-0.07375538],\n",
       "       [-0.0633067 ],\n",
       "       [-0.05285802],\n",
       "       [-0.03995083],\n",
       "       [-0.01843884],\n",
       "       [ 0.00245851],\n",
       "       [ 0.03749232],\n",
       "       [ 0.07682852],\n",
       "       [ 0.12169637],\n",
       "       [ 0.15980332],\n",
       "       [ 0.19913952],\n",
       "       [ 0.22618316],\n",
       "       [ 0.23847572],\n",
       "       [ 0.23909035],\n",
       "       [ 0.23724647],\n",
       "       [ 0.23786109],\n",
       "       [ 0.23724647],\n",
       "       [ 0.23724647]])"
      ]
     },
     "execution_count": 30,
     "metadata": {},
     "output_type": "execute_result"
    }
   ],
   "source": [
    "scaled_test"
   ]
  },
  {
   "cell_type": "code",
   "execution_count": 31,
   "metadata": {},
   "outputs": [],
   "source": [
    "true_predictions = scaler.inverse_transform(test_predictions)"
   ]
  },
  {
   "cell_type": "code",
   "execution_count": 32,
   "metadata": {},
   "outputs": [
    {
     "data": {
      "text/plain": [
       "array([[903.56179929],\n",
       "       [886.88257289],\n",
       "       [870.73254865],\n",
       "       [854.72551665],\n",
       "       [839.24691099],\n",
       "       [824.48370287],\n",
       "       [810.68153441],\n",
       "       [798.47230616],\n",
       "       [788.31178464],\n",
       "       [780.43610825],\n",
       "       [774.96892235],\n",
       "       [771.81509274],\n",
       "       [770.74449359],\n",
       "       [771.51868328],\n",
       "       [773.95602436],\n",
       "       [777.87509756],\n",
       "       [783.07016668],\n",
       "       [789.41647112],\n",
       "       [796.74713814],\n",
       "       [804.91607225],\n",
       "       [813.75763714],\n",
       "       [823.21054351],\n",
       "       [833.10580936],\n",
       "       [843.15512279],\n",
       "       [853.40818438],\n",
       "       [864.34352595],\n",
       "       [876.2702609 ],\n",
       "       [889.6416586 ],\n",
       "       [904.79534364],\n",
       "       [921.79905427]])"
      ]
     },
     "execution_count": 32,
     "metadata": {},
     "output_type": "execute_result"
    }
   ],
   "source": [
    "true_predictions"
   ]
  },
  {
   "cell_type": "code",
   "execution_count": 33,
   "metadata": {},
   "outputs": [],
   "source": [
    "test['Predictions'] = true_predictions"
   ]
  },
  {
   "cell_type": "code",
   "execution_count": null,
   "metadata": {},
   "outputs": [],
   "source": []
  },
  {
   "cell_type": "code",
   "execution_count": 34,
   "metadata": {},
   "outputs": [
    {
     "data": {
      "image/png": "[encoded data removed]",
      "text/plain": [
       "<Figure size 432x288 with 1 Axes>"
      ]
     },
     "metadata": {
      "needs_background": "light"
     },
     "output_type": "display_data"
    }
   ],
   "source": [
    "fig=plt.figure()\n",
    "ax=fig.add_axes([0,0,1,1])\n",
    "test_2 = test.reset_index()\n",
    "ax.scatter(test_2['WTI_Oil_Price'], test_2['Rigs_Count'], color='r',label = \"Actual Rigs Count\")\n",
    "ax.scatter(test_2['WTI_Oil_Price'], test_2['Predictions'], color='b', label = \"Predictions\")\n",
    "ax.set_xlabel('WTI Oil Price')\n",
    "ax.set_ylabel('Rigs Count')\n",
    "ax.set_title('scatter plot')\n",
    "plt.legend()\n",
    "plt.show()"
   ]
  },
  {
   "cell_type": "code",
   "execution_count": null,
   "metadata": {},
   "outputs": [],
   "source": []
  },
  {
   "cell_type": "code",
   "execution_count": null,
   "metadata": {},
   "outputs": [],
   "source": []
  },
  {
   "cell_type": "code",
   "execution_count": null,
   "metadata": {},
   "outputs": [],
   "source": []
  },
  {
   "cell_type": "code",
   "execution_count": null,
   "metadata": {},
   "outputs": [],
   "source": []
  },
  {
   "cell_type": "code",
   "execution_count": null,
   "metadata": {},
   "outputs": [],
   "source": []
  },
  {
   "cell_type": "code",
   "execution_count": null,
   "metadata": {},
   "outputs": [],
   "source": []
  }
 ],
 "metadata": {
  "kernelspec": {
   "display_name": "P_TF",
   "language": "python",
   "name": "tf"
  },
  "language_info": {
   "codemirror_mode": {
    "name": "ipython",
    "version": 3
   },
   "file_extension": ".py",
   "mimetype": "text/x-python",
   "name": "python",
   "nbconvert_exporter": "python",
   "pygments_lexer": "ipython3",
   "version": "3.8.3"
  }
 },
 "nbformat": 4,
 "nbformat_minor": 4
}
