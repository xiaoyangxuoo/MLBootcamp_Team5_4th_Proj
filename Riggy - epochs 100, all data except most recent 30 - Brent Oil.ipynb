{
 "cells": [
  {
   "cell_type": "code",
   "execution_count": 1,
   "metadata": {},
   "outputs": [],
   "source": [
    "import numpy as np\n",
    "import pandas as pd\n",
    "import matplotlib.pyplot as plt\n",
    "\n",
    "%matplotlib inline\n",
    "from statsmodels.tsa.statespace.sarimax import SARIMAX\n",
    "from statsmodels.tsa.arima_model import ARMA,ARMAResults,ARIMA,ARIMAResults\n",
    "\n",
    "from statsmodels.graphics.tsaplots import plot_acf,plot_pacf # for determining (p,q) orders\n",
    "from statsmodels.tsa.seasonal import seasonal_decompose      # for ETS Plots\n",
    "\n",
    "# Load specific evaluation tools\n",
    "from sklearn.metrics import mean_squared_error\n",
    "from statsmodels.tools.eval_measures import rmse\n",
    "\n",
    "from mpl_toolkits.mplot3d import Axes3D"
   ]
  },
  {
   "cell_type": "code",
   "execution_count": 2,
   "metadata": {},
   "outputs": [],
   "source": [
    "import tensorflow"
   ]
  },
  {
   "cell_type": "code",
   "execution_count": null,
   "metadata": {},
   "outputs": [],
   "source": []
  },
  {
   "cell_type": "code",
   "execution_count": null,
   "metadata": {},
   "outputs": [],
   "source": [
    "data = pd.read_csv(r'C:\\Users\\thuyd\\Desktop\\bootcamp\\Project 4\\DNEdited_weekly_rigs_and_oil_price.csv')\n",
    "\n",
    "d_time = data['Date'] #time\n",
    "d_rigs = data['Rigs_Count'] #rigs count column, y, index: 0\n",
    "d_price_WTI = data['WTI_Oil_Price'] #price column, x, index: 1\n",
    "d_price_Brent = data['Brent_Oil_Price']\n",
    "\n",
    "data.set_index('Date',inplace = True)\n",
    "\n",
    "train = data.iloc[30:,[0,2]]\n",
    "test = data.iloc[0:30,[0,2]]\n",
    "train = pd.DataFrame(train)\n",
    "test = pd.DataFrame(test)\n",
    "\n",
    "train.set_index('WTI_Oil_Price',inplace = True)\n",
    "test.set_index('WTI_Oil_Price',inplace = True)"
   ]
  },
  {
   "cell_type": "code",
   "execution_count": 4,
   "metadata": {},
   "outputs": [
    {
     "data": {
      "text/html": [
       "<div>\n",
       "<style scoped>\n",
       "    .dataframe tbody tr th:only-of-type {\n",
       "        vertical-align: middle;\n",
       "    }\n",
       "\n",
       "    .dataframe tbody tr th {\n",
       "        vertical-align: top;\n",
       "    }\n",
       "\n",
       "    .dataframe thead th {\n",
       "        text-align: right;\n",
       "    }\n",
       "</style>\n",
       "<table border=\"1\" class=\"dataframe\">\n",
       "  <thead>\n",
       "    <tr style=\"text-align: right;\">\n",
       "      <th></th>\n",
       "      <th>Rigs_Count</th>\n",
       "    </tr>\n",
       "    <tr>\n",
       "      <th>Brent_Oil_Price</th>\n",
       "      <th></th>\n",
       "    </tr>\n",
       "  </thead>\n",
       "  <tbody>\n",
       "    <tr>\n",
       "      <th>45.26</th>\n",
       "      <td>254</td>\n",
       "    </tr>\n",
       "    <tr>\n",
       "      <th>44.79</th>\n",
       "      <td>254</td>\n",
       "    </tr>\n",
       "    <tr>\n",
       "      <th>44.54</th>\n",
       "      <td>244</td>\n",
       "    </tr>\n",
       "    <tr>\n",
       "      <th>44.36</th>\n",
       "      <td>247</td>\n",
       "    </tr>\n",
       "    <tr>\n",
       "      <th>43.22</th>\n",
       "      <td>251</td>\n",
       "    </tr>\n",
       "    <tr>\n",
       "      <th>43.57</th>\n",
       "      <td>251</td>\n",
       "    </tr>\n",
       "    <tr>\n",
       "      <th>43.40</th>\n",
       "      <td>253</td>\n",
       "    </tr>\n",
       "    <tr>\n",
       "      <th>43.06</th>\n",
       "      <td>258</td>\n",
       "    </tr>\n",
       "    <tr>\n",
       "      <th>42.30</th>\n",
       "      <td>263</td>\n",
       "    </tr>\n",
       "    <tr>\n",
       "      <th>41.69</th>\n",
       "      <td>265</td>\n",
       "    </tr>\n",
       "    <tr>\n",
       "      <th>40.95</th>\n",
       "      <td>266</td>\n",
       "    </tr>\n",
       "    <tr>\n",
       "      <th>39.52</th>\n",
       "      <td>279</td>\n",
       "    </tr>\n",
       "    <tr>\n",
       "      <th>38.37</th>\n",
       "      <td>284</td>\n",
       "    </tr>\n",
       "    <tr>\n",
       "      <th>33.70</th>\n",
       "      <td>301</td>\n",
       "    </tr>\n",
       "    <tr>\n",
       "      <th>33.94</th>\n",
       "      <td>318</td>\n",
       "    </tr>\n",
       "    <tr>\n",
       "      <th>28.18</th>\n",
       "      <td>339</td>\n",
       "    </tr>\n",
       "    <tr>\n",
       "      <th>23.57</th>\n",
       "      <td>374</td>\n",
       "    </tr>\n",
       "    <tr>\n",
       "      <th>17.05</th>\n",
       "      <td>408</td>\n",
       "    </tr>\n",
       "    <tr>\n",
       "      <th>14.24</th>\n",
       "      <td>465</td>\n",
       "    </tr>\n",
       "    <tr>\n",
       "      <th>20.00</th>\n",
       "      <td>529</td>\n",
       "    </tr>\n",
       "    <tr>\n",
       "      <th>22.53</th>\n",
       "      <td>602</td>\n",
       "    </tr>\n",
       "    <tr>\n",
       "      <th>18.72</th>\n",
       "      <td>664</td>\n",
       "    </tr>\n",
       "    <tr>\n",
       "      <th>23.96</th>\n",
       "      <td>728</td>\n",
       "    </tr>\n",
       "    <tr>\n",
       "      <th>25.65</th>\n",
       "      <td>772</td>\n",
       "    </tr>\n",
       "    <tr>\n",
       "      <th>33.72</th>\n",
       "      <td>792</td>\n",
       "    </tr>\n",
       "    <tr>\n",
       "      <th>50.70</th>\n",
       "      <td>793</td>\n",
       "    </tr>\n",
       "    <tr>\n",
       "      <th>54.09</th>\n",
       "      <td>790</td>\n",
       "    </tr>\n",
       "    <tr>\n",
       "      <th>58.61</th>\n",
       "      <td>791</td>\n",
       "    </tr>\n",
       "    <tr>\n",
       "      <th>55.33</th>\n",
       "      <td>790</td>\n",
       "    </tr>\n",
       "    <tr>\n",
       "      <th>54.59</th>\n",
       "      <td>790</td>\n",
       "    </tr>\n",
       "  </tbody>\n",
       "</table>\n",
       "</div>"
      ],
      "text/plain": [
       "                 Rigs_Count\n",
       "Brent_Oil_Price            \n",
       "45.26                   254\n",
       "44.79                   254\n",
       "44.54                   244\n",
       "44.36                   247\n",
       "43.22                   251\n",
       "43.57                   251\n",
       "43.40                   253\n",
       "43.06                   258\n",
       "42.30                   263\n",
       "41.69                   265\n",
       "40.95                   266\n",
       "39.52                   279\n",
       "38.37                   284\n",
       "33.70                   301\n",
       "33.94                   318\n",
       "28.18                   339\n",
       "23.57                   374\n",
       "17.05                   408\n",
       "14.24                   465\n",
       "20.00                   529\n",
       "22.53                   602\n",
       "18.72                   664\n",
       "23.96                   728\n",
       "25.65                   772\n",
       "33.72                   792\n",
       "50.70                   793\n",
       "54.09                   790\n",
       "58.61                   791\n",
       "55.33                   790\n",
       "54.59                   790"
      ]
     },
     "execution_count": 4,
     "metadata": {},
     "output_type": "execute_result"
    }
   ],
   "source": [
    "#data.head()\n",
    "#train.head()\n",
    "test"
   ]
  },
  {
   "cell_type": "code",
   "execution_count": 5,
   "metadata": {},
   "outputs": [
    {
     "name": "stderr",
     "output_type": "stream",
     "text": [
      "C:\\Users\\thuyd\\anaconda3\\lib\\site-packages\\pandas\\plotting\\_matplotlib\\core.py:1235: UserWarning: FixedFormatter should only be used together with FixedLocator\n",
      "  ax.set_xticklabels(xticklabels)\n"
     ]
    },
    {
     "data": {
      "text/plain": [
       "<AxesSubplot:xlabel='Date'>"
      ]
     },
     "execution_count": 5,
     "metadata": {},
     "output_type": "execute_result"
    },
    {
     "data": {
      "image/png": "[encoded data removed]",
      "text/plain": [
       "<Figure size 864x360 with 1 Axes>"
      ]
     },
     "metadata": {
      "needs_background": "light"
     },
     "output_type": "display_data"
    }
   ],
   "source": [
    "data['Brent_Oil_Price'].plot(figsize=(12,5))"
   ]
  },
  {
   "cell_type": "code",
   "execution_count": 6,
   "metadata": {},
   "outputs": [
    {
     "name": "stderr",
     "output_type": "stream",
     "text": [
      "C:\\Users\\thuyd\\anaconda3\\lib\\site-packages\\pandas\\plotting\\_matplotlib\\core.py:1235: UserWarning: FixedFormatter should only be used together with FixedLocator\n",
      "  ax.set_xticklabels(xticklabels)\n"
     ]
    },
    {
     "data": {
      "text/plain": [
       "<AxesSubplot:xlabel='Date'>"
      ]
     },
     "execution_count": 6,
     "metadata": {},
     "output_type": "execute_result"
    },
    {
     "data": {
      "image/png": "[encoded data removed]",
      "text/plain": [
       "<Figure size 864x360 with 1 Axes>"
      ]
     },
     "metadata": {
      "needs_background": "light"
     },
     "output_type": "display_data"
    }
   ],
   "source": [
    "data['Rigs_Count'].plot(figsize=(12,5))"
   ]
  },
  {
   "cell_type": "code",
   "execution_count": 7,
   "metadata": {},
   "outputs": [],
   "source": [
    "#Axes3D.scatter(d_price_WTI, d_rigs, zs=0, zdir='z', s=20, c=None, depthshade=True)\n",
    "\n",
    "# d_time = data['Date'] #time\n",
    "# d_rigs = data['Rigs_Count'] #rigs count column, y, index: 0\n",
    "# d_price_WTI = data['WTI_Oil_Price'] #price column, x, index: 1\n",
    "# d_price_Brent"
   ]
  },
  {
   "cell_type": "code",
   "execution_count": 8,
   "metadata": {},
   "outputs": [
    {
     "data": {
      "text/plain": [
       "MinMaxScaler()"
      ]
     },
     "execution_count": 8,
     "metadata": {},
     "output_type": "execute_result"
    }
   ],
   "source": [
    "from sklearn.preprocessing import MinMaxScaler\n",
    "scaler = MinMaxScaler()#this is a must\n",
    "scaler.fit(train)#scaler only takes dataframe intead of series"
   ]
  },
  {
   "cell_type": "code",
   "execution_count": 9,
   "metadata": {},
   "outputs": [],
   "source": [
    "scaled_train = scaler.transform(train)\n",
    "scaled_test = scaler.transform(test)"
   ]
  },
  {
   "cell_type": "code",
   "execution_count": 10,
   "metadata": {},
   "outputs": [
    {
     "data": {
      "text/plain": [
       "<AxesSubplot:>"
      ]
     },
     "execution_count": 10,
     "metadata": {},
     "output_type": "execute_result"
    },
    {
     "data": {
      "image/png": "[encoded data removed]",
      "text/plain": [
       "<Figure size 864x360 with 1 Axes>"
      ]
     },
     "metadata": {
      "needs_background": "light"
     },
     "output_type": "display_data"
    }
   ],
   "source": [
    "df_scaled_train = pd.DataFrame(scaled_train)\n",
    "df_scaled_train.plot(figsize=(12,5))"
   ]
  },
  {
   "cell_type": "code",
   "execution_count": 11,
   "metadata": {},
   "outputs": [],
   "source": [
    "from keras.preprocessing.sequence import TimeseriesGenerator #what is this"
   ]
  },
  {
   "cell_type": "code",
   "execution_count": 12,
   "metadata": {},
   "outputs": [],
   "source": [
    "# define generator, equally spaced data rows\n",
    "n_input = 20\n",
    "n_features = 1\n",
    "#batch size too large will overfit\n",
    "generator = TimeseriesGenerator(scaled_train, scaled_train, length=n_input, batch_size=1)"
   ]
  },
  {
   "cell_type": "code",
   "execution_count": 13,
   "metadata": {},
   "outputs": [
    {
     "name": "stdout",
     "output_type": "stream",
     "text": [
      "Given the Array: \n",
      "[0.23724647 0.23970498 0.24093423 0.23171481 0.24093423 0.24646589\n",
      " 0.25138291 0.24277812 0.24277812 0.244622   0.24523663 0.24708052\n",
      " 0.25384143 0.25691457 0.26183159 0.27473878 0.27781192 0.2771973\n",
      " 0.28027044 0.28518746]\n",
      "Predict this y: \n",
      " [[0.29625077]]\n"
     ]
    }
   ],
   "source": [
    "X,y = generator[0]\n",
    "print(f'Given the Array: \\n{X.flatten()}')\n",
    "print(f'Predict this y: \\n {y}')"
   ]
  },
  {
   "cell_type": "code",
   "execution_count": 14,
   "metadata": {},
   "outputs": [],
   "source": [
    "from keras.models import Sequential\n",
    "from keras.layers import Dense, LSTM\n",
    "from keras.layers import Dropout"
   ]
  },
  {
   "cell_type": "code",
   "execution_count": 15,
   "metadata": {},
   "outputs": [],
   "source": [
    "n_input = 30\n",
    "n_features = 1\n",
    "#batch size too large will overfit\n",
    "train_generator = TimeseriesGenerator(scaled_train, scaled_train, length=n_input, batch_size=1)"
   ]
  },
  {
   "cell_type": "code",
   "execution_count": 16,
   "metadata": {},
   "outputs": [],
   "source": [
    "model = Sequential()\n",
    "model.add(LSTM(150, activation='relu', return_sequences = True, input_shape=(n_input, n_features)))\n",
    "model.add(Dropout(0.2))\n",
    "\n",
    "model.add(LSTM(150, return_sequences = True))\n",
    "model.add(Dropout(0.2))\n",
    "\n",
    "model.add(LSTM(150, return_sequences = True))\n",
    "model.add(Dropout(0.2))\n",
    "\n",
    "model.add(LSTM(150))\n",
    "model.add(Dropout(0.2))\n",
    "\n",
    "model.add(Dense(1))\n",
    "model.compile(optimizer='adam', loss='mse')"
   ]
  },
  {
   "cell_type": "code",
   "execution_count": 17,
   "metadata": {},
   "outputs": [
    {
     "name": "stdout",
     "output_type": "stream",
     "text": [
      "Model: \"sequential\"\n",
      "_________________________________________________________________\n",
      "Layer (type)                 Output Shape              Param #   \n",
      "=================================================================\n",
      "lstm (LSTM)                  (None, 30, 150)           91200     \n",
      "_________________________________________________________________\n",
      "dropout (Dropout)            (None, 30, 150)           0         \n",
      "_________________________________________________________________\n",
      "lstm_1 (LSTM)                (None, 30, 150)           180600    \n",
      "_________________________________________________________________\n",
      "dropout_1 (Dropout)          (None, 30, 150)           0         \n",
      "_________________________________________________________________\n",
      "lstm_2 (LSTM)                (None, 30, 150)           180600    \n",
      "_________________________________________________________________\n",
      "dropout_2 (Dropout)          (None, 30, 150)           0         \n",
      "_________________________________________________________________\n",
      "lstm_3 (LSTM)                (None, 150)               180600    \n",
      "_________________________________________________________________\n",
      "dropout_3 (Dropout)          (None, 150)               0         \n",
      "_________________________________________________________________\n",
      "dense (Dense)                (None, 1)                 151       \n",
      "=================================================================\n",
      "Total params: 633,151\n",
      "Trainable params: 633,151\n",
      "Non-trainable params: 0\n",
      "_________________________________________________________________\n"
     ]
    }
   ],
   "source": [
    "model.summary()"
   ]
  },
  {
   "cell_type": "code",
   "execution_count": 19,
   "metadata": {},
   "outputs": [
    {
     "name": "stdout",
     "output_type": "stream",
     "text": [
      "Epoch 1/100\n",
      "1669/1669 [==============================] - 83s 50ms/step - loss: 0.0016\n",
      "Epoch 2/100\n",
      "1669/1669 [==============================] - 77s 46ms/step - loss: 0.0015\n",
      "Epoch 3/100\n",
      "1669/1669 [==============================] - 74s 44ms/step - loss: 0.0013\n",
      "Epoch 4/100\n",
      "1669/1669 [==============================] - 75s 45ms/step - loss: 0.0013\n",
      "Epoch 5/100\n",
      "1669/1669 [==============================] - 73s 44ms/step - loss: 0.0012\n",
      "Epoch 6/100\n",
      "1669/1669 [==============================] - 74s 44ms/step - loss: 0.0013\n",
      "Epoch 7/100\n",
      "1669/1669 [==============================] - 76s 45ms/step - loss: 0.0011\n",
      "Epoch 8/100\n",
      "1669/1669 [==============================] - 81s 49ms/step - loss: 0.0014\n",
      "Epoch 9/100\n",
      "1669/1669 [==============================] - 77s 46ms/step - loss: 0.0011\n",
      "Epoch 10/100\n",
      "1669/1669 [==============================] - 76s 46ms/step - loss: 0.0011 1s\n",
      "Epoch 11/100\n",
      "1669/1669 [==============================] - 79s 47ms/step - loss: 0.0010\n",
      "Epoch 12/100\n",
      "1669/1669 [==============================] - 79s 47ms/step - loss: 0.0011\n",
      "Epoch 13/100\n",
      "1669/1669 [==============================] - 75s 45ms/step - loss: 0.0010\n",
      "Epoch 14/100\n",
      "1669/1669 [==============================] - 75s 45ms/step - loss: 0.0010\n",
      "Epoch 15/100\n",
      "1669/1669 [==============================] - 74s 44ms/step - loss: 9.9069e-04\n",
      "Epoch 16/100\n",
      "1669/1669 [==============================] - 73s 44ms/step - loss: 0.0010\n",
      "Epoch 17/100\n",
      "1669/1669 [==============================] - 76s 46ms/step - loss: 9.8587e-04\n",
      "Epoch 18/100\n",
      "1669/1669 [==============================] - 75s 45ms/step - loss: 9.0647e-04\n",
      "Epoch 19/100\n",
      "1669/1669 [==============================] - 73s 44ms/step - loss: 9.3228e-04\n",
      "Epoch 20/100\n",
      "1669/1669 [==============================] - 84s 50ms/step - loss: 9.2355e-04\n",
      "Epoch 21/100\n",
      "1669/1669 [==============================] - 83s 50ms/step - loss: 9.1322e-04\n",
      "Epoch 22/100\n",
      "1669/1669 [==============================] - 84s 51ms/step - loss: 9.8624e-04\n",
      "Epoch 23/100\n",
      "1669/1669 [==============================] - 81s 48ms/step - loss: 8.5230e-04\n",
      "Epoch 24/100\n",
      "1669/1669 [==============================] - 81s 49ms/step - loss: 9.0347e-04 1s - loss\n",
      "Epoch 25/100\n",
      "1669/1669 [==============================] - 78s 46ms/step - loss: 9.0698e-04\n",
      "Epoch 26/100\n",
      "1669/1669 [==============================] - 84s 50ms/step - loss: 7.9359e-04 0s - loss: 7.9409e\n",
      "Epoch 27/100\n",
      "1669/1669 [==============================] - 82s 49ms/step - loss: 8.1474e-04\n",
      "Epoch 28/100\n",
      "1669/1669 [==============================] - 81s 49ms/step - loss: 9.1711e-04\n",
      "Epoch 29/100\n",
      "1669/1669 [==============================] - 75s 45ms/step - loss: 7.8262e-04\n",
      "Epoch 30/100\n",
      "1669/1669 [==============================] - 77s 46ms/step - loss: 7.7781e-04\n",
      "Epoch 31/100\n",
      "1669/1669 [==============================] - 77s 46ms/step - loss: 7.9336e-04\n",
      "Epoch 32/100\n",
      "1669/1669 [==============================] - 80s 48ms/step - loss: 8.0324e-04\n",
      "Epoch 33/100\n",
      "1669/1669 [==============================] - 86s 52ms/step - loss: 7.1717e-04\n",
      "Epoch 34/100\n",
      "1669/1669 [==============================] - 84s 51ms/step - loss: 8.0044e-04\n",
      "Epoch 35/100\n",
      "1669/1669 [==============================] - 79s 47ms/step - loss: 6.7746e-04\n",
      "Epoch 36/100\n",
      "1669/1669 [==============================] - 75s 45ms/step - loss: 7.7422e-04\n",
      "Epoch 37/100\n",
      "1669/1669 [==============================] - 74s 44ms/step - loss: 7.5371e-04\n",
      "Epoch 38/100\n",
      "1669/1669 [==============================] - 74s 44ms/step - loss: 7.3398e-04\n",
      "Epoch 39/100\n",
      "1669/1669 [==============================] - 74s 45ms/step - loss: 7.5206e-04\n",
      "Epoch 40/100\n",
      "1669/1669 [==============================] - 75s 45ms/step - loss: 7.3380e-04\n",
      "Epoch 41/100\n",
      "1669/1669 [==============================] - 74s 44ms/step - loss: 6.8484e-04\n",
      "Epoch 42/100\n",
      "1669/1669 [==============================] - 76s 45ms/step - loss: 6.7579e-04\n",
      "Epoch 43/100\n",
      "1669/1669 [==============================] - 80s 48ms/step - loss: 7.0930e-04\n",
      "Epoch 44/100\n",
      "1669/1669 [==============================] - 76s 46ms/step - loss: 6.6728e-04\n",
      "Epoch 45/100\n",
      "1669/1669 [==============================] - 74s 44ms/step - loss: 6.9563e-04\n",
      "Epoch 46/100\n",
      "1669/1669 [==============================] - 74s 44ms/step - loss: 6.8931e-04\n",
      "Epoch 47/100\n",
      "1669/1669 [==============================] - 74s 44ms/step - loss: 6.9775e-04\n",
      "Epoch 48/100\n",
      "1669/1669 [==============================] - 74s 44ms/step - loss: 6.6141e-04\n",
      "Epoch 49/100\n",
      "1669/1669 [==============================] - 74s 44ms/step - loss: 6.6799e-04\n",
      "Epoch 50/100\n",
      "1669/1669 [==============================] - 74s 44ms/step - loss: 5.8297e-04\n",
      "Epoch 51/100\n",
      "1669/1669 [==============================] - 75s 45ms/step - loss: 6.5820e-04\n",
      "Epoch 52/100\n",
      "1669/1669 [==============================] - 74s 44ms/step - loss: 6.3857e-04\n",
      "Epoch 53/100\n",
      "1669/1669 [==============================] - 74s 44ms/step - loss: 6.5618e-04\n",
      "Epoch 54/100\n",
      "1669/1669 [==============================] - 73s 44ms/step - loss: 6.7951e-04 0s - loss: 6.7951e-0\n",
      "Epoch 55/100\n",
      "1669/1669 [==============================] - 75s 45ms/step - loss: 6.4585e-04\n",
      "Epoch 56/100\n",
      "1669/1669 [==============================] - 73s 44ms/step - loss: 6.2783e-04\n",
      "Epoch 57/100\n",
      "1669/1669 [==============================] - 73s 44ms/step - loss: 6.2470e-04\n",
      "Epoch 58/100\n",
      "1669/1669 [==============================] - 73s 44ms/step - loss: 6.6652e-04\n",
      "Epoch 59/100\n",
      "1669/1669 [==============================] - 74s 44ms/step - loss: 6.6609e-04\n",
      "Epoch 60/100\n",
      "1669/1669 [==============================] - 74s 44ms/step - loss: 5.7838e-04\n",
      "Epoch 61/100\n",
      "1669/1669 [==============================] - 73s 44ms/step - loss: 6.2446e-04\n",
      "Epoch 62/100\n",
      "1669/1669 [==============================] - 73s 44ms/step - loss: 5.8464e-04\n",
      "Epoch 63/100\n",
      "1669/1669 [==============================] - 74s 44ms/step - loss: 5.7822e-04\n",
      "Epoch 64/100\n",
      "1669/1669 [==============================] - 73s 44ms/step - loss: 6.2214e-04\n",
      "Epoch 65/100\n",
      "1669/1669 [==============================] - 73s 44ms/step - loss: 5.6542e-04\n",
      "Epoch 66/100\n",
      "1669/1669 [==============================] - 73s 44ms/step - loss: 6.0987e-04\n",
      "Epoch 67/100\n",
      "1669/1669 [==============================] - 73s 44ms/step - loss: 5.5209e-04\n",
      "Epoch 68/100\n",
      "1669/1669 [==============================] - 73s 44ms/step - loss: 5.6759e-04\n",
      "Epoch 69/100\n",
      "1669/1669 [==============================] - 73s 44ms/step - loss: 5.3376e-04\n",
      "Epoch 70/100\n",
      "1669/1669 [==============================] - 73s 44ms/step - loss: 5.4993e-04\n",
      "Epoch 71/100\n",
      "1669/1669 [==============================] - 73s 44ms/step - loss: 5.8239e-04\n",
      "Epoch 72/100\n",
      "1669/1669 [==============================] - 73s 44ms/step - loss: 6.0223e-04\n",
      "Epoch 73/100\n",
      "1669/1669 [==============================] - 73s 44ms/step - loss: 5.6430e-04\n",
      "Epoch 74/100\n",
      "1669/1669 [==============================] - 73s 44ms/step - loss: 5.9087e-04\n",
      "Epoch 75/100\n",
      "1669/1669 [==============================] - 73s 44ms/step - loss: 5.5124e-04\n",
      "Epoch 76/100\n",
      "1669/1669 [==============================] - 78s 47ms/step - loss: 6.0439e-04\n",
      "Epoch 77/100\n",
      "1669/1669 [==============================] - 73s 44ms/step - loss: 5.3337e-04\n",
      "Epoch 78/100\n",
      "1669/1669 [==============================] - 73s 44ms/step - loss: 5.7352e-04\n",
      "Epoch 79/100\n",
      "1669/1669 [==============================] - 73s 44ms/step - loss: 5.4381e-04\n",
      "Epoch 80/100\n",
      "1669/1669 [==============================] - 73s 44ms/step - loss: 5.0285e-04\n",
      "Epoch 81/100\n",
      "1669/1669 [==============================] - 73s 44ms/step - loss: 5.3405e-04\n",
      "Epoch 82/100\n",
      "1669/1669 [==============================] - 74s 44ms/step - loss: 5.5908e-04\n",
      "Epoch 83/100\n",
      "1669/1669 [==============================] - 74s 44ms/step - loss: 5.1567e-04\n",
      "Epoch 84/100\n",
      "1669/1669 [==============================] - 73s 44ms/step - loss: 5.0134e-04\n",
      "Epoch 85/100\n",
      "1669/1669 [==============================] - 73s 44ms/step - loss: 5.5237e-04\n",
      "Epoch 86/100\n",
      "1669/1669 [==============================] - 74s 44ms/step - loss: 5.2966e-04\n",
      "Epoch 87/100\n",
      "1669/1669 [==============================] - 74s 44ms/step - loss: 5.2167e-04\n",
      "Epoch 88/100\n",
      "1669/1669 [==============================] - 74s 45ms/step - loss: 5.2009e-04\n",
      "Epoch 89/100\n",
      "1669/1669 [==============================] - 73s 44ms/step - loss: 5.4464e-04\n",
      "Epoch 90/100\n"
     ]
    },
    {
     "name": "stdout",
     "output_type": "stream",
     "text": [
      "1669/1669 [==============================] - 73s 44ms/step - loss: 5.1315e-04\n",
      "Epoch 91/100\n",
      "1669/1669 [==============================] - 74s 44ms/step - loss: 5.3004e-04\n",
      "Epoch 92/100\n",
      "1669/1669 [==============================] - 74s 44ms/step - loss: 5.2009e-04\n",
      "Epoch 93/100\n",
      "1669/1669 [==============================] - 74s 44ms/step - loss: 5.4673e-04\n",
      "Epoch 94/100\n",
      "1669/1669 [==============================] - 74s 44ms/step - loss: 5.4530e-04\n",
      "Epoch 95/100\n",
      "1669/1669 [==============================] - 73s 44ms/step - loss: 5.3243e-04\n",
      "Epoch 96/100\n",
      "1669/1669 [==============================] - 74s 44ms/step - loss: 4.9327e-04\n",
      "Epoch 97/100\n",
      "1669/1669 [==============================] - 73s 44ms/step - loss: 4.9449e-04\n",
      "Epoch 98/100\n",
      "1669/1669 [==============================] - 74s 44ms/step - loss: 5.1894e-04\n",
      "Epoch 99/100\n",
      "1669/1669 [==============================] - 73s 44ms/step - loss: 5.5736e-04\n",
      "Epoch 100/100\n",
      "1669/1669 [==============================] - 74s 44ms/step - loss: 4.4966e-04\n"
     ]
    },
    {
     "data": {
      "text/plain": [
       "<tensorflow.python.keras.callbacks.History at 0x165b32d4880>"
      ]
     },
     "execution_count": 19,
     "metadata": {},
     "output_type": "execute_result"
    }
   ],
   "source": [
    "model.fit_generator(train_generator,epochs=100)"
   ]
  },
  {
   "cell_type": "code",
   "execution_count": null,
   "metadata": {},
   "outputs": [],
   "source": []
  },
  {
   "cell_type": "code",
   "execution_count": 20,
   "metadata": {},
   "outputs": [
    {
     "data": {
      "text/plain": [
       "dict_keys(['loss'])"
      ]
     },
     "execution_count": 20,
     "metadata": {},
     "output_type": "execute_result"
    }
   ],
   "source": [
    "model.history.history.keys()"
   ]
  },
  {
   "cell_type": "code",
   "execution_count": 21,
   "metadata": {
    "scrolled": false
   },
   "outputs": [
    {
     "data": {
      "text/plain": [
       "[<matplotlib.lines.Line2D at 0x165c8f86640>]"
      ]
     },
     "execution_count": 21,
     "metadata": {},
     "output_type": "execute_result"
    },
    {
     "data": {
      "image/png": "[encoded data removed]",
      "text/plain": [
       "<Figure size 432x288 with 1 Axes>"
      ]
     },
     "metadata": {
      "needs_background": "light"
     },
     "output_type": "display_data"
    }
   ],
   "source": [
    "loss_per_epoch = model.history.history['loss']\n",
    "plt.plot(range(len(loss_per_epoch)),loss_per_epoch)"
   ]
  },
  {
   "cell_type": "code",
   "execution_count": 22,
   "metadata": {},
   "outputs": [
    {
     "data": {
      "image/png": "[encoded data removed]",
      "text/plain": [
       "<Figure size 432x288 with 1 Axes>"
      ]
     },
     "metadata": {
      "needs_background": "light"
     },
     "output_type": "display_data"
    }
   ],
   "source": [
    "def smooth_curve(points, factor=0.9):\n",
    "  smoothed_points = []\n",
    "  for point in points:\n",
    "    if smoothed_points:\n",
    "      previous = smoothed_points[-1]\n",
    "      smoothed_points.append(previous * factor + point * (1 - factor))\n",
    "    else:\n",
    "      smoothed_points.append(point)\n",
    "  return smoothed_points\n",
    "\n",
    "smooth_mae_history = smooth_curve(loss_per_epoch[5:])\n",
    "\n",
    "plt.plot(range(1, len(smooth_mae_history) + 1), smooth_mae_history)\n",
    "plt.xlabel('Epochs')\n",
    "plt.ylabel('Validation MAE')\n",
    "plt.show()"
   ]
  },
  {
   "cell_type": "code",
   "execution_count": 23,
   "metadata": {},
   "outputs": [],
   "source": [
    "# 10 history steps --> step 13\n",
    "# last 10 points in train --> pt 1 in test data\n",
    "first_eval_batch = scaled_train[-n_input:]"
   ]
  },
  {
   "cell_type": "code",
   "execution_count": null,
   "metadata": {},
   "outputs": [],
   "source": [
    "first_eval_batch"
   ]
  },
  {
   "cell_type": "code",
   "execution_count": null,
   "metadata": {},
   "outputs": [],
   "source": [
    "first_eval_batch = first_eval_batch.reshape((1, n_input, n_features))# make it 3 dimensional"
   ]
  },
  {
   "cell_type": "code",
   "execution_count": null,
   "metadata": {},
   "outputs": [],
   "source": [
    "model.predict(first_eval_batch)"
   ]
  },
  {
   "cell_type": "code",
   "execution_count": null,
   "metadata": {},
   "outputs": [],
   "source": [
    "scaled_test[0]"
   ]
  },
  {
   "cell_type": "code",
   "execution_count": 24,
   "metadata": {},
   "outputs": [],
   "source": [
    "test_predictions = []\n",
    "\n",
    "# last n_input points from the training set\n",
    "first_eval_batch = scaled_train[-n_input:]\n",
    "\n",
    "# reshape this to the format RNN wants(same format as TimeSeries Generator)\n",
    "current_batch = first_eval_batch.reshape((1, n_input, n_features))\n",
    "\n",
    "#how far into the future will I forecast?\n",
    "#len(test) -->I can also change to 24\n",
    "\n",
    "for i in range(len(test)):\n",
    "    \n",
    "    # get prediction 1 time stamp ahead ([0] is for grabbing just the number instead of [array])\n",
    "    current_pred = model.predict(current_batch)[0]\n",
    "    \n",
    "    # store prediction\n",
    "    test_predictions.append(current_pred) \n",
    "    \n",
    "    # update batch to now include prediction and drop first value\n",
    "    current_batch = np.append(current_batch[:,1:,:],[[current_pred]],axis=1)"
   ]
  },
  {
   "cell_type": "code",
   "execution_count": 25,
   "metadata": {},
   "outputs": [
    {
     "data": {
      "text/plain": [
       "[array([0.32419735], dtype=float32),\n",
       " array([0.32780087], dtype=float32),\n",
       " array([0.33019918], dtype=float32),\n",
       " array([0.33287817], dtype=float32),\n",
       " array([0.33735827], dtype=float32),\n",
       " array([0.34319854], dtype=float32),\n",
       " array([0.35000467], dtype=float32),\n",
       " array([0.35759887], dtype=float32),\n",
       " array([0.36595443], dtype=float32),\n",
       " array([0.37499034], dtype=float32),\n",
       " array([0.38449174], dtype=float32),\n",
       " array([0.39433712], dtype=float32),\n",
       " array([0.40446317], dtype=float32),\n",
       " array([0.41475722], dtype=float32),\n",
       " array([0.42503402], dtype=float32),\n",
       " array([0.43506354], dtype=float32),\n",
       " array([0.44461623], dtype=float32),\n",
       " array([0.45348525], dtype=float32),\n",
       " array([0.46149236], dtype=float32),\n",
       " array([0.4685456], dtype=float32),\n",
       " array([0.47457838], dtype=float32),\n",
       " array([0.4794947], dtype=float32),\n",
       " array([0.48323643], dtype=float32),\n",
       " array([0.48584378], dtype=float32),\n",
       " array([0.48746327], dtype=float32),\n",
       " array([0.48822898], dtype=float32),\n",
       " array([0.4882375], dtype=float32),\n",
       " array([0.48757374], dtype=float32),\n",
       " array([0.48631138], dtype=float32),\n",
       " array([0.48451847], dtype=float32)]"
      ]
     },
     "execution_count": 25,
     "metadata": {},
     "output_type": "execute_result"
    }
   ],
   "source": [
    "test_predictions"
   ]
  },
  {
   "cell_type": "code",
   "execution_count": 26,
   "metadata": {},
   "outputs": [
    {
     "data": {
      "text/plain": [
       "array([[-0.09219422],\n",
       "       [-0.09219422],\n",
       "       [-0.0983405 ],\n",
       "       [-0.09649662],\n",
       "       [-0.09403811],\n",
       "       [-0.09403811],\n",
       "       [-0.09280885],\n",
       "       [-0.08973571],\n",
       "       [-0.08666257],\n",
       "       [-0.08543331],\n",
       "       [-0.08481868],\n",
       "       [-0.07682852],\n",
       "       [-0.07375538],\n",
       "       [-0.0633067 ],\n",
       "       [-0.05285802],\n",
       "       [-0.03995083],\n",
       "       [-0.01843884],\n",
       "       [ 0.00245851],\n",
       "       [ 0.03749232],\n",
       "       [ 0.07682852],\n",
       "       [ 0.12169637],\n",
       "       [ 0.15980332],\n",
       "       [ 0.19913952],\n",
       "       [ 0.22618316],\n",
       "       [ 0.23847572],\n",
       "       [ 0.23909035],\n",
       "       [ 0.23724647],\n",
       "       [ 0.23786109],\n",
       "       [ 0.23724647],\n",
       "       [ 0.23724647]])"
      ]
     },
     "execution_count": 26,
     "metadata": {},
     "output_type": "execute_result"
    }
   ],
   "source": [
    "scaled_test"
   ]
  },
  {
   "cell_type": "code",
   "execution_count": 27,
   "metadata": {},
   "outputs": [],
   "source": [
    "true_predictions = scaler.inverse_transform(test_predictions)"
   ]
  },
  {
   "cell_type": "code",
   "execution_count": 28,
   "metadata": {},
   "outputs": [
    {
     "data": {
      "text/plain": [
       "array([[ 931.46909159],\n",
       "       [ 937.3320154 ],\n",
       "       [ 941.23406917],\n",
       "       [ 945.59278649],\n",
       "       [ 952.88189897],\n",
       "       [ 962.38402104],\n",
       "       [ 973.45760298],\n",
       "       [ 985.81336311],\n",
       "       [ 999.40785584],\n",
       "       [1014.10928977],\n",
       "       [1029.56806368],\n",
       "       [1045.58649045],\n",
       "       [1062.06158078],\n",
       "       [1078.81000009],\n",
       "       [1095.53034464],\n",
       "       [1111.8483811 ],\n",
       "       [1127.39060351],\n",
       "       [1141.82050252],\n",
       "       [1154.84806913],\n",
       "       [1166.32366821],\n",
       "       [1176.13902521],\n",
       "       [1184.13786209],\n",
       "       [1190.22567499],\n",
       "       [1194.46782625],\n",
       "       [1197.10273322],\n",
       "       [1198.34854513],\n",
       "       [1198.36241281],\n",
       "       [1197.28247964],\n",
       "       [1195.22860891],\n",
       "       [1192.31154805]])"
      ]
     },
     "execution_count": 28,
     "metadata": {},
     "output_type": "execute_result"
    }
   ],
   "source": [
    "true_predictions"
   ]
  },
  {
   "cell_type": "code",
   "execution_count": 29,
   "metadata": {},
   "outputs": [],
   "source": [
    "test['Predictions'] = true_predictions"
   ]
  },
  {
   "cell_type": "code",
   "execution_count": null,
   "metadata": {},
   "outputs": [],
   "source": []
  },
  {
   "cell_type": "code",
   "execution_count": 31,
   "metadata": {},
   "outputs": [
    {
     "data": {
      "image/png": "[encoded data removed]",
      "text/plain": [
       "<Figure size 432x288 with 1 Axes>"
      ]
     },
     "metadata": {
      "needs_background": "light"
     },
     "output_type": "display_data"
    }
   ],
   "source": [
    "fig=plt.figure()\n",
    "ax=fig.add_axes([0,0,1,1])\n",
    "test_2 = test.reset_index()\n",
    "ax.scatter(test_2['Brent_Oil_Price'], test_2['Rigs_Count'], color='r',label = \"Actual Rigs Count\")\n",
    "ax.scatter(test_2['Brent_Oil_Price'], test_2['Predictions'], color='b', label = \"Predictions\")\n",
    "ax.set_xlabel('Brent Oil Price')\n",
    "ax.set_ylabel('Rigs Count')\n",
    "ax.set_title('scatter plot')\n",
    "plt.legend()\n",
    "plt.show()"
   ]
  },
  {
   "cell_type": "code",
   "execution_count": 30,
   "metadata": {},
   "outputs": [
    {
     "data": {
      "text/html": [
       "<div>\n",
       "<style scoped>\n",
       "    .dataframe tbody tr th:only-of-type {\n",
       "        vertical-align: middle;\n",
       "    }\n",
       "\n",
       "    .dataframe tbody tr th {\n",
       "        vertical-align: top;\n",
       "    }\n",
       "\n",
       "    .dataframe thead th {\n",
       "        text-align: right;\n",
       "    }\n",
       "</style>\n",
       "<table border=\"1\" class=\"dataframe\">\n",
       "  <thead>\n",
       "    <tr style=\"text-align: right;\">\n",
       "      <th></th>\n",
       "      <th>Rigs_Count</th>\n",
       "      <th>Predictions</th>\n",
       "    </tr>\n",
       "    <tr>\n",
       "      <th>Brent_Oil_Price</th>\n",
       "      <th></th>\n",
       "      <th></th>\n",
       "    </tr>\n",
       "  </thead>\n",
       "  <tbody>\n",
       "    <tr>\n",
       "      <th>45.26</th>\n",
       "      <td>254</td>\n",
       "      <td>931.469092</td>\n",
       "    </tr>\n",
       "    <tr>\n",
       "      <th>44.79</th>\n",
       "      <td>254</td>\n",
       "      <td>937.332015</td>\n",
       "    </tr>\n",
       "    <tr>\n",
       "      <th>44.54</th>\n",
       "      <td>244</td>\n",
       "      <td>941.234069</td>\n",
       "    </tr>\n",
       "    <tr>\n",
       "      <th>44.36</th>\n",
       "      <td>247</td>\n",
       "      <td>945.592786</td>\n",
       "    </tr>\n",
       "    <tr>\n",
       "      <th>43.22</th>\n",
       "      <td>251</td>\n",
       "      <td>952.881899</td>\n",
       "    </tr>\n",
       "    <tr>\n",
       "      <th>43.57</th>\n",
       "      <td>251</td>\n",
       "      <td>962.384021</td>\n",
       "    </tr>\n",
       "    <tr>\n",
       "      <th>43.40</th>\n",
       "      <td>253</td>\n",
       "      <td>973.457603</td>\n",
       "    </tr>\n",
       "    <tr>\n",
       "      <th>43.06</th>\n",
       "      <td>258</td>\n",
       "      <td>985.813363</td>\n",
       "    </tr>\n",
       "    <tr>\n",
       "      <th>42.30</th>\n",
       "      <td>263</td>\n",
       "      <td>999.407856</td>\n",
       "    </tr>\n",
       "    <tr>\n",
       "      <th>41.69</th>\n",
       "      <td>265</td>\n",
       "      <td>1014.109290</td>\n",
       "    </tr>\n",
       "    <tr>\n",
       "      <th>40.95</th>\n",
       "      <td>266</td>\n",
       "      <td>1029.568064</td>\n",
       "    </tr>\n",
       "    <tr>\n",
       "      <th>39.52</th>\n",
       "      <td>279</td>\n",
       "      <td>1045.586490</td>\n",
       "    </tr>\n",
       "    <tr>\n",
       "      <th>38.37</th>\n",
       "      <td>284</td>\n",
       "      <td>1062.061581</td>\n",
       "    </tr>\n",
       "    <tr>\n",
       "      <th>33.70</th>\n",
       "      <td>301</td>\n",
       "      <td>1078.810000</td>\n",
       "    </tr>\n",
       "    <tr>\n",
       "      <th>33.94</th>\n",
       "      <td>318</td>\n",
       "      <td>1095.530345</td>\n",
       "    </tr>\n",
       "    <tr>\n",
       "      <th>28.18</th>\n",
       "      <td>339</td>\n",
       "      <td>1111.848381</td>\n",
       "    </tr>\n",
       "    <tr>\n",
       "      <th>23.57</th>\n",
       "      <td>374</td>\n",
       "      <td>1127.390604</td>\n",
       "    </tr>\n",
       "    <tr>\n",
       "      <th>17.05</th>\n",
       "      <td>408</td>\n",
       "      <td>1141.820503</td>\n",
       "    </tr>\n",
       "    <tr>\n",
       "      <th>14.24</th>\n",
       "      <td>465</td>\n",
       "      <td>1154.848069</td>\n",
       "    </tr>\n",
       "    <tr>\n",
       "      <th>20.00</th>\n",
       "      <td>529</td>\n",
       "      <td>1166.323668</td>\n",
       "    </tr>\n",
       "    <tr>\n",
       "      <th>22.53</th>\n",
       "      <td>602</td>\n",
       "      <td>1176.139025</td>\n",
       "    </tr>\n",
       "    <tr>\n",
       "      <th>18.72</th>\n",
       "      <td>664</td>\n",
       "      <td>1184.137862</td>\n",
       "    </tr>\n",
       "    <tr>\n",
       "      <th>23.96</th>\n",
       "      <td>728</td>\n",
       "      <td>1190.225675</td>\n",
       "    </tr>\n",
       "    <tr>\n",
       "      <th>25.65</th>\n",
       "      <td>772</td>\n",
       "      <td>1194.467826</td>\n",
       "    </tr>\n",
       "    <tr>\n",
       "      <th>33.72</th>\n",
       "      <td>792</td>\n",
       "      <td>1197.102733</td>\n",
       "    </tr>\n",
       "    <tr>\n",
       "      <th>50.70</th>\n",
       "      <td>793</td>\n",
       "      <td>1198.348545</td>\n",
       "    </tr>\n",
       "    <tr>\n",
       "      <th>54.09</th>\n",
       "      <td>790</td>\n",
       "      <td>1198.362413</td>\n",
       "    </tr>\n",
       "    <tr>\n",
       "      <th>58.61</th>\n",
       "      <td>791</td>\n",
       "      <td>1197.282480</td>\n",
       "    </tr>\n",
       "    <tr>\n",
       "      <th>55.33</th>\n",
       "      <td>790</td>\n",
       "      <td>1195.228609</td>\n",
       "    </tr>\n",
       "    <tr>\n",
       "      <th>54.59</th>\n",
       "      <td>790</td>\n",
       "      <td>1192.311548</td>\n",
       "    </tr>\n",
       "  </tbody>\n",
       "</table>\n",
       "</div>"
      ],
      "text/plain": [
       "                 Rigs_Count  Predictions\n",
       "Brent_Oil_Price                         \n",
       "45.26                   254   931.469092\n",
       "44.79                   254   937.332015\n",
       "44.54                   244   941.234069\n",
       "44.36                   247   945.592786\n",
       "43.22                   251   952.881899\n",
       "43.57                   251   962.384021\n",
       "43.40                   253   973.457603\n",
       "43.06                   258   985.813363\n",
       "42.30                   263   999.407856\n",
       "41.69                   265  1014.109290\n",
       "40.95                   266  1029.568064\n",
       "39.52                   279  1045.586490\n",
       "38.37                   284  1062.061581\n",
       "33.70                   301  1078.810000\n",
       "33.94                   318  1095.530345\n",
       "28.18                   339  1111.848381\n",
       "23.57                   374  1127.390604\n",
       "17.05                   408  1141.820503\n",
       "14.24                   465  1154.848069\n",
       "20.00                   529  1166.323668\n",
       "22.53                   602  1176.139025\n",
       "18.72                   664  1184.137862\n",
       "23.96                   728  1190.225675\n",
       "25.65                   772  1194.467826\n",
       "33.72                   792  1197.102733\n",
       "50.70                   793  1198.348545\n",
       "54.09                   790  1198.362413\n",
       "58.61                   791  1197.282480\n",
       "55.33                   790  1195.228609\n",
       "54.59                   790  1192.311548"
      ]
     },
     "execution_count": 30,
     "metadata": {},
     "output_type": "execute_result"
    }
   ],
   "source": [
    "test"
   ]
  },
  {
   "cell_type": "code",
   "execution_count": null,
   "metadata": {},
   "outputs": [],
   "source": []
  },
  {
   "cell_type": "code",
   "execution_count": null,
   "metadata": {},
   "outputs": [],
   "source": []
  },
  {
   "cell_type": "code",
   "execution_count": null,
   "metadata": {},
   "outputs": [],
   "source": []
  },
  {
   "cell_type": "code",
   "execution_count": null,
   "metadata": {},
   "outputs": [],
   "source": []
  },
  {
   "cell_type": "code",
   "execution_count": null,
   "metadata": {},
   "outputs": [],
   "source": []
  }
 ],
 "metadata": {
  "kernelspec": {
   "display_name": "P_TF",
   "language": "python",
   "name": "tf"
  },
  "language_info": {
   "codemirror_mode": {
    "name": "ipython",
    "version": 3
   },
   "file_extension": ".py",
   "mimetype": "text/x-python",
   "name": "python",
   "nbconvert_exporter": "python",
   "pygments_lexer": "ipython3",
   "version": "3.8.3"
  }
 },
 "nbformat": 4,
 "nbformat_minor": 4
}
