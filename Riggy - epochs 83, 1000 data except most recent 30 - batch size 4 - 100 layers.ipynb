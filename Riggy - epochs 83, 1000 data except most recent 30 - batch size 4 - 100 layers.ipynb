{
 "cells": [
  {
   "cell_type": "code",
   "execution_count": 1,
   "metadata": {},
   "outputs": [],
   "source": [
    "import numpy as np\n",
    "import pandas as pd\n",
    "import matplotlib.pyplot as plt\n",
    "\n",
    "%matplotlib inline\n",
    "from statsmodels.tsa.statespace.sarimax import SARIMAX\n",
    "from statsmodels.tsa.arima_model import ARMA,ARMAResults,ARIMA,ARIMAResults\n",
    "\n",
    "from statsmodels.graphics.tsaplots import plot_acf,plot_pacf # for determining (p,q) orders\n",
    "from statsmodels.tsa.seasonal import seasonal_decompose      # for ETS Plots\n",
    "\n",
    "# Load specific evaluation tools\n",
    "from sklearn.metrics import mean_squared_error\n",
    "from statsmodels.tools.eval_measures import rmse\n",
    "\n",
    "from mpl_toolkits.mplot3d import Axes3D"
   ]
  },
  {
   "cell_type": "code",
   "execution_count": 2,
   "metadata": {},
   "outputs": [],
   "source": [
    "import tensorflow"
   ]
  },
  {
   "cell_type": "code",
   "execution_count": null,
   "metadata": {},
   "outputs": [],
   "source": []
  },
  {
   "cell_type": "code",
   "execution_count": 3,
   "metadata": {},
   "outputs": [],
   "source": [
    "data = pd.read_csv(r'DNEdited_weekly_rigs_and_oil_price.csv')\n",
    "\n",
    "d_time = data['Date'] #time\n",
    "d_rigs = data['Rigs_Count'] #rigs count column, y, index: 0\n",
    "d_price_WTI = data['WTI_Oil_Price'] #price column, x, index: 1\n",
    "d_price_Brent = data['Brent_Oil_Price']\n",
    "\n",
    "data.set_index('Date',inplace = True)\n",
    "\n",
    "train = data.iloc[30:1000,[0,2]]\n",
    "test = data.iloc[0:30,[0,2]]\n",
    "train = pd.DataFrame(train)\n",
    "test = pd.DataFrame(test)\n",
    "\n",
    "train.set_index('WTI_Oil_Price',inplace = True)\n",
    "test.set_index('WTI_Oil_Price',inplace = True)"
   ]
  },
  {
   "cell_type": "code",
   "execution_count": 4,
   "metadata": {},
   "outputs": [
    {
     "data": {
      "text/html": [
       "<div>\n",
       "<style scoped>\n",
       "    .dataframe tbody tr th:only-of-type {\n",
       "        vertical-align: middle;\n",
       "    }\n",
       "\n",
       "    .dataframe tbody tr th {\n",
       "        vertical-align: top;\n",
       "    }\n",
       "\n",
       "    .dataframe thead th {\n",
       "        text-align: right;\n",
       "    }\n",
       "</style>\n",
       "<table border=\"1\" class=\"dataframe\">\n",
       "  <thead>\n",
       "    <tr style=\"text-align: right;\">\n",
       "      <th></th>\n",
       "      <th>Rigs_Count</th>\n",
       "    </tr>\n",
       "    <tr>\n",
       "      <th>WTI_Oil_Price</th>\n",
       "      <th></th>\n",
       "    </tr>\n",
       "  </thead>\n",
       "  <tbody>\n",
       "    <tr>\n",
       "      <th>52.69</th>\n",
       "      <td>790</td>\n",
       "    </tr>\n",
       "    <tr>\n",
       "      <th>56.15</th>\n",
       "      <td>794</td>\n",
       "    </tr>\n",
       "    <tr>\n",
       "      <th>58.29</th>\n",
       "      <td>796</td>\n",
       "    </tr>\n",
       "    <tr>\n",
       "      <th>60.84</th>\n",
       "      <td>781</td>\n",
       "    </tr>\n",
       "    <tr>\n",
       "      <th>61.74</th>\n",
       "      <td>796</td>\n",
       "    </tr>\n",
       "    <tr>\n",
       "      <th>...</th>\n",
       "      <td>...</td>\n",
       "    </tr>\n",
       "    <tr>\n",
       "      <th>27.10</th>\n",
       "      <td>1266</td>\n",
       "    </tr>\n",
       "    <tr>\n",
       "      <th>26.50</th>\n",
       "      <td>1266</td>\n",
       "    </tr>\n",
       "    <tr>\n",
       "      <th>25.26</th>\n",
       "      <td>1278</td>\n",
       "    </tr>\n",
       "    <tr>\n",
       "      <th>27.07</th>\n",
       "      <td>1293</td>\n",
       "    </tr>\n",
       "    <tr>\n",
       "      <th>26.87</th>\n",
       "      <td>1275</td>\n",
       "    </tr>\n",
       "  </tbody>\n",
       "</table>\n",
       "<p>970 rows × 1 columns</p>\n",
       "</div>"
      ],
      "text/plain": [
       "               Rigs_Count\n",
       "WTI_Oil_Price            \n",
       "52.69                 790\n",
       "56.15                 794\n",
       "58.29                 796\n",
       "60.84                 781\n",
       "61.74                 796\n",
       "...                   ...\n",
       "27.10                1266\n",
       "26.50                1266\n",
       "25.26                1278\n",
       "27.07                1293\n",
       "26.87                1275\n",
       "\n",
       "[970 rows x 1 columns]"
      ]
     },
     "execution_count": 4,
     "metadata": {},
     "output_type": "execute_result"
    }
   ],
   "source": [
    "#data.head()\n",
    "#train.head()\n",
    "train"
   ]
  },
  {
   "cell_type": "code",
   "execution_count": 5,
   "metadata": {},
   "outputs": [
    {
     "data": {
      "text/html": [
       "<div>\n",
       "<style scoped>\n",
       "    .dataframe tbody tr th:only-of-type {\n",
       "        vertical-align: middle;\n",
       "    }\n",
       "\n",
       "    .dataframe tbody tr th {\n",
       "        vertical-align: top;\n",
       "    }\n",
       "\n",
       "    .dataframe thead th {\n",
       "        text-align: right;\n",
       "    }\n",
       "</style>\n",
       "<table border=\"1\" class=\"dataframe\">\n",
       "  <thead>\n",
       "    <tr style=\"text-align: right;\">\n",
       "      <th></th>\n",
       "      <th>Rigs_Count</th>\n",
       "    </tr>\n",
       "    <tr>\n",
       "      <th>WTI_Oil_Price</th>\n",
       "      <th></th>\n",
       "    </tr>\n",
       "  </thead>\n",
       "  <tbody>\n",
       "    <tr>\n",
       "      <th>52.69</th>\n",
       "      <td>790</td>\n",
       "    </tr>\n",
       "    <tr>\n",
       "      <th>56.15</th>\n",
       "      <td>794</td>\n",
       "    </tr>\n",
       "    <tr>\n",
       "      <th>58.29</th>\n",
       "      <td>796</td>\n",
       "    </tr>\n",
       "    <tr>\n",
       "      <th>60.84</th>\n",
       "      <td>781</td>\n",
       "    </tr>\n",
       "    <tr>\n",
       "      <th>61.74</th>\n",
       "      <td>796</td>\n",
       "    </tr>\n",
       "    <tr>\n",
       "      <th>...</th>\n",
       "      <td>...</td>\n",
       "    </tr>\n",
       "    <tr>\n",
       "      <th>27.10</th>\n",
       "      <td>1266</td>\n",
       "    </tr>\n",
       "    <tr>\n",
       "      <th>26.50</th>\n",
       "      <td>1266</td>\n",
       "    </tr>\n",
       "    <tr>\n",
       "      <th>25.26</th>\n",
       "      <td>1278</td>\n",
       "    </tr>\n",
       "    <tr>\n",
       "      <th>27.07</th>\n",
       "      <td>1293</td>\n",
       "    </tr>\n",
       "    <tr>\n",
       "      <th>26.87</th>\n",
       "      <td>1275</td>\n",
       "    </tr>\n",
       "  </tbody>\n",
       "</table>\n",
       "<p>970 rows × 1 columns</p>\n",
       "</div>"
      ],
      "text/plain": [
       "               Rigs_Count\n",
       "WTI_Oil_Price            \n",
       "52.69                 790\n",
       "56.15                 794\n",
       "58.29                 796\n",
       "60.84                 781\n",
       "61.74                 796\n",
       "...                   ...\n",
       "27.10                1266\n",
       "26.50                1266\n",
       "25.26                1278\n",
       "27.07                1293\n",
       "26.87                1275\n",
       "\n",
       "[970 rows x 1 columns]"
      ]
     },
     "execution_count": 5,
     "metadata": {},
     "output_type": "execute_result"
    }
   ],
   "source": [
    "train"
   ]
  },
  {
   "cell_type": "code",
   "execution_count": 6,
   "metadata": {},
   "outputs": [
    {
     "name": "stderr",
     "output_type": "stream",
     "text": [
      "C:\\Users\\thuyd\\anaconda3\\lib\\site-packages\\pandas\\plotting\\_matplotlib\\core.py:1235: UserWarning: FixedFormatter should only be used together with FixedLocator\n",
      "  ax.set_xticklabels(xticklabels)\n"
     ]
    },
    {
     "data": {
      "text/plain": [
       "<AxesSubplot:xlabel='Date'>"
      ]
     },
     "execution_count": 6,
     "metadata": {},
     "output_type": "execute_result"
    },
    {
     "data": {
      "image/png": "[encoded data removed]",
      "text/plain": [
       "<Figure size 864x360 with 1 Axes>"
      ]
     },
     "metadata": {
      "needs_background": "light"
     },
     "output_type": "display_data"
    }
   ],
   "source": [
    "data['WTI_Oil_Price'].plot(figsize=(12,5))"
   ]
  },
  {
   "cell_type": "code",
   "execution_count": 7,
   "metadata": {},
   "outputs": [
    {
     "name": "stderr",
     "output_type": "stream",
     "text": [
      "C:\\Users\\thuyd\\anaconda3\\lib\\site-packages\\pandas\\plotting\\_matplotlib\\core.py:1235: UserWarning: FixedFormatter should only be used together with FixedLocator\n",
      "  ax.set_xticklabels(xticklabels)\n"
     ]
    },
    {
     "data": {
      "text/plain": [
       "<AxesSubplot:xlabel='Date'>"
      ]
     },
     "execution_count": 7,
     "metadata": {},
     "output_type": "execute_result"
    },
    {
     "data": {
      "image/png": "[encoded data removed]",
      "text/plain": [
       "<Figure size 864x360 with 1 Axes>"
      ]
     },
     "metadata": {
      "needs_background": "light"
     },
     "output_type": "display_data"
    }
   ],
   "source": [
    "data['Rigs_Count'].plot(figsize=(12,5))"
   ]
  },
  {
   "cell_type": "code",
   "execution_count": 8,
   "metadata": {},
   "outputs": [],
   "source": [
    "#Axes3D.scatter(d_price_WTI, d_rigs, zs=0, zdir='z', s=20, c=None, depthshade=True)\n",
    "\n",
    "# d_time = data['Date'] #time\n",
    "# d_rigs = data['Rigs_Count'] #rigs count column, y, index: 0\n",
    "# d_price_WTI = data['WTI_Oil_Price'] #price column, x, index: 1\n",
    "# d_price_Brent"
   ]
  },
  {
   "cell_type": "code",
   "execution_count": 9,
   "metadata": {},
   "outputs": [
    {
     "data": {
      "text/plain": [
       "MinMaxScaler()"
      ]
     },
     "execution_count": 9,
     "metadata": {},
     "output_type": "execute_result"
    }
   ],
   "source": [
    "from sklearn.preprocessing import MinMaxScaler\n",
    "scaler = MinMaxScaler()#this is a must\n",
    "scaler.fit(train)#scaler only takes dataframe intead of series"
   ]
  },
  {
   "cell_type": "code",
   "execution_count": 10,
   "metadata": {},
   "outputs": [],
   "source": [
    "scaled_train = scaler.transform(train)\n",
    "scaled_test = scaler.transform(test)"
   ]
  },
  {
   "cell_type": "code",
   "execution_count": 11,
   "metadata": {},
   "outputs": [],
   "source": [
    "# df_scaled_train = pd.DataFrame(scaled_train)\n",
    "# df_scaled_train.plot(figsize=(12,5))\n",
    "# train.plot(figsize=(12,5))"
   ]
  },
  {
   "cell_type": "code",
   "execution_count": 12,
   "metadata": {},
   "outputs": [],
   "source": [
    "from keras.preprocessing.sequence import TimeseriesGenerator #what is this"
   ]
  },
  {
   "cell_type": "code",
   "execution_count": 13,
   "metadata": {},
   "outputs": [],
   "source": [
    "# define generator, equally spaced data rows\n",
    "n_input = 30\n",
    "n_features = 1\n",
    "#batch size too large will overfit\n",
    "generator = TimeseriesGenerator(scaled_train, scaled_train, length=n_input, batch_size=4)"
   ]
  },
  {
   "cell_type": "code",
   "execution_count": 14,
   "metadata": {},
   "outputs": [
    {
     "name": "stdout",
     "output_type": "stream",
     "text": [
      "Given the Array: \n",
      "[0.23724647 0.23970498 0.24093423 0.23171481 0.24093423 0.24646589\n",
      " 0.25138291 0.24277812 0.24277812 0.244622   0.24523663 0.24708052\n",
      " 0.25384143 0.25691457 0.26183159 0.27473878 0.27781192 0.2771973\n",
      " 0.28027044 0.28518746 0.29625077 0.30362631 0.30731407 0.31468961\n",
      " 0.32636755 0.32575292 0.33066994 0.33312846 0.33804548 0.340504\n",
      " 0.23970498 0.24093423 0.23171481 0.24093423 0.24646589 0.25138291\n",
      " 0.24277812 0.24277812 0.244622   0.24523663 0.24708052 0.25384143\n",
      " 0.25691457 0.26183159 0.27473878 0.27781192 0.2771973  0.28027044\n",
      " 0.28518746 0.29625077 0.30362631 0.30731407 0.31468961 0.32636755\n",
      " 0.32575292 0.33066994 0.33312846 0.33804548 0.340504   0.34357714\n",
      " 0.24093423 0.23171481 0.24093423 0.24646589 0.25138291 0.24277812\n",
      " 0.24277812 0.244622   0.24523663 0.24708052 0.25384143 0.25691457\n",
      " 0.26183159 0.27473878 0.27781192 0.2771973  0.28027044 0.28518746\n",
      " 0.29625077 0.30362631 0.30731407 0.31468961 0.32636755 0.32575292\n",
      " 0.33066994 0.33312846 0.33804548 0.340504   0.34357714 0.34603565\n",
      " 0.23171481 0.24093423 0.24646589 0.25138291 0.24277812 0.24277812\n",
      " 0.244622   0.24523663 0.24708052 0.25384143 0.25691457 0.26183159\n",
      " 0.27473878 0.27781192 0.2771973  0.28027044 0.28518746 0.29625077\n",
      " 0.30362631 0.30731407 0.31468961 0.32636755 0.32575292 0.33066994\n",
      " 0.33312846 0.33804548 0.340504   0.34357714 0.34603565 0.34603565]\n",
      "Predict this y: \n",
      " [[0.34357714]\n",
      " [0.34603565]\n",
      " [0.34603565]\n",
      " [0.3472649 ]]\n"
     ]
    }
   ],
   "source": [
    "X,y = generator[0]\n",
    "print(f'Given the Array: \\n{X.flatten()}')\n",
    "print(f'Predict this y: \\n {y}')"
   ]
  },
  {
   "cell_type": "code",
   "execution_count": 15,
   "metadata": {},
   "outputs": [],
   "source": [
    "from keras.models import Sequential\n",
    "from keras.layers import Dense, LSTM\n",
    "from keras.layers import Dropout"
   ]
  },
  {
   "cell_type": "code",
   "execution_count": 16,
   "metadata": {},
   "outputs": [],
   "source": [
    "n_input = 30\n",
    "n_features = 1\n",
    "#batch size too large will overfit\n",
    "train_generator = TimeseriesGenerator(scaled_train, scaled_train, length=n_input, batch_size=4)"
   ]
  },
  {
   "cell_type": "code",
   "execution_count": 17,
   "metadata": {},
   "outputs": [],
   "source": [
    "model = Sequential()\n",
    "model.add(LSTM(100, activation='relu', return_sequences = True, input_shape=(n_input, n_features)))\n",
    "model.add(Dropout(0.2))\n",
    "\n",
    "model.add(LSTM(100, return_sequences = True))\n",
    "model.add(Dropout(0.2))\n",
    "\n",
    "model.add(LSTM(100, return_sequences = True))\n",
    "model.add(Dropout(0.2))\n",
    "\n",
    "model.add(LSTM(100))\n",
    "model.add(Dropout(0.2))\n",
    "\n",
    "model.add(Dense(1))\n",
    "model.compile(optimizer='adam', loss='mse')"
   ]
  },
  {
   "cell_type": "code",
   "execution_count": 18,
   "metadata": {},
   "outputs": [
    {
     "name": "stdout",
     "output_type": "stream",
     "text": [
      "Model: \"sequential\"\n",
      "_________________________________________________________________\n",
      "Layer (type)                 Output Shape              Param #   \n",
      "=================================================================\n",
      "lstm (LSTM)                  (None, 30, 100)           40800     \n",
      "_________________________________________________________________\n",
      "dropout (Dropout)            (None, 30, 100)           0         \n",
      "_________________________________________________________________\n",
      "lstm_1 (LSTM)                (None, 30, 100)           80400     \n",
      "_________________________________________________________________\n",
      "dropout_1 (Dropout)          (None, 30, 100)           0         \n",
      "_________________________________________________________________\n",
      "lstm_2 (LSTM)                (None, 30, 100)           80400     \n",
      "_________________________________________________________________\n",
      "dropout_2 (Dropout)          (None, 30, 100)           0         \n",
      "_________________________________________________________________\n",
      "lstm_3 (LSTM)                (None, 100)               80400     \n",
      "_________________________________________________________________\n",
      "dropout_3 (Dropout)          (None, 100)               0         \n",
      "_________________________________________________________________\n",
      "dense (Dense)                (None, 1)                 101       \n",
      "=================================================================\n",
      "Total params: 282,101\n",
      "Trainable params: 282,101\n",
      "Non-trainable params: 0\n",
      "_________________________________________________________________\n"
     ]
    }
   ],
   "source": [
    "model.summary()"
   ]
  },
  {
   "cell_type": "code",
   "execution_count": 19,
   "metadata": {},
   "outputs": [
    {
     "name": "stdout",
     "output_type": "stream",
     "text": [
      "WARNING:tensorflow:From <ipython-input-19-0cf8cbed8be0>:1: Model.fit_generator (from tensorflow.python.keras.engine.training) is deprecated and will be removed in a future version.\n",
      "Instructions for updating:\n",
      "Please use Model.fit, which supports generators.\n",
      "Epoch 1/83\n",
      "235/235 [==============================] - 18s 76ms/step - loss: 0.0257\n",
      "Epoch 2/83\n",
      "235/235 [==============================] - 18s 75ms/step - loss: 0.0095\n",
      "Epoch 3/83\n",
      "235/235 [==============================] - 17s 73ms/step - loss: 0.0065\n",
      "Epoch 4/83\n",
      "235/235 [==============================] - 17s 73ms/step - loss: 0.0059\n",
      "Epoch 5/83\n",
      "235/235 [==============================] - 17s 72ms/step - loss: 0.0045\n",
      "Epoch 6/83\n",
      "235/235 [==============================] - 17s 71ms/step - loss: 0.0043\n",
      "Epoch 7/83\n",
      "235/235 [==============================] - 17s 72ms/step - loss: 0.0051\n",
      "Epoch 8/83\n",
      "235/235 [==============================] - 17s 73ms/step - loss: 0.0040\n",
      "Epoch 9/83\n",
      "235/235 [==============================] - 17s 73ms/step - loss: 0.0032\n",
      "Epoch 10/83\n",
      "235/235 [==============================] - 17s 73ms/step - loss: 0.0033\n",
      "Epoch 11/83\n",
      "235/235 [==============================] - 17s 73ms/step - loss: 0.0038\n",
      "Epoch 12/83\n",
      "235/235 [==============================] - 17s 72ms/step - loss: 0.0036\n",
      "Epoch 13/83\n",
      "235/235 [==============================] - 18s 76ms/step - loss: 0.0026\n",
      "Epoch 14/83\n",
      "235/235 [==============================] - 17s 73ms/step - loss: 0.0030\n",
      "Epoch 15/83\n",
      "235/235 [==============================] - 17s 73ms/step - loss: 0.0029\n",
      "Epoch 16/83\n",
      "235/235 [==============================] - 17s 74ms/step - loss: 0.0031\n",
      "Epoch 17/83\n",
      "235/235 [==============================] - 17s 74ms/step - loss: 0.0027\n",
      "Epoch 18/83\n",
      "235/235 [==============================] - 17s 72ms/step - loss: 0.0027\n",
      "Epoch 19/83\n",
      "235/235 [==============================] - 17s 73ms/step - loss: 0.0031\n",
      "Epoch 20/83\n",
      "235/235 [==============================] - 17s 74ms/step - loss: 0.0023\n",
      "Epoch 21/83\n",
      "235/235 [==============================] - 17s 73ms/step - loss: 0.0028\n",
      "Epoch 22/83\n",
      "235/235 [==============================] - 17s 73ms/step - loss: 0.0026\n",
      "Epoch 23/83\n",
      "235/235 [==============================] - 17s 73ms/step - loss: 0.0022\n",
      "Epoch 24/83\n",
      "235/235 [==============================] - 18s 77ms/step - loss: 0.0019\n",
      "Epoch 25/83\n",
      "235/235 [==============================] - 18s 75ms/step - loss: 0.0020\n",
      "Epoch 26/83\n",
      "235/235 [==============================] - 17s 73ms/step - loss: 0.0018\n",
      "Epoch 27/83\n",
      "235/235 [==============================] - 17s 73ms/step - loss: 0.0020\n",
      "Epoch 28/83\n",
      "235/235 [==============================] - 18s 75ms/step - loss: 0.0023\n",
      "Epoch 29/83\n",
      "235/235 [==============================] - 17s 72ms/step - loss: 0.0023\n",
      "Epoch 30/83\n",
      "235/235 [==============================] - 17s 71ms/step - loss: 0.0023\n",
      "Epoch 31/83\n",
      "235/235 [==============================] - 17s 73ms/step - loss: 0.0016\n",
      "Epoch 32/83\n",
      "235/235 [==============================] - 17s 72ms/step - loss: 0.0026\n",
      "Epoch 33/83\n",
      "235/235 [==============================] - 17s 71ms/step - loss: 0.0083\n",
      "Epoch 34/83\n",
      "235/235 [==============================] - 17s 71ms/step - loss: 0.0067\n",
      "Epoch 35/83\n",
      "235/235 [==============================] - 17s 72ms/step - loss: 0.0021\n",
      "Epoch 36/83\n",
      "235/235 [==============================] - 17s 72ms/step - loss: 0.0018\n",
      "Epoch 37/83\n",
      "235/235 [==============================] - 17s 72ms/step - loss: 0.0018\n",
      "Epoch 38/83\n",
      "235/235 [==============================] - 17s 73ms/step - loss: 0.0014\n",
      "Epoch 39/83\n",
      "235/235 [==============================] - 17s 74ms/step - loss: 0.0016\n",
      "Epoch 40/83\n",
      "235/235 [==============================] - 17s 70ms/step - loss: 0.0014\n",
      "Epoch 41/83\n",
      "235/235 [==============================] - 17s 71ms/step - loss: 0.0016\n",
      "Epoch 42/83\n",
      "235/235 [==============================] - 17s 73ms/step - loss: 0.0015\n",
      "Epoch 43/83\n",
      "235/235 [==============================] - 18s 75ms/step - loss: 0.0014\n",
      "Epoch 44/83\n",
      "235/235 [==============================] - 17s 74ms/step - loss: 0.0016\n",
      "Epoch 45/83\n",
      "235/235 [==============================] - 17s 71ms/step - loss: 0.0018\n",
      "Epoch 46/83\n",
      "235/235 [==============================] - 17s 72ms/step - loss: 0.0014\n",
      "Epoch 47/83\n",
      "235/235 [==============================] - 17s 71ms/step - loss: 0.0014\n",
      "Epoch 48/83\n",
      "235/235 [==============================] - 16s 70ms/step - loss: 0.0016\n",
      "Epoch 49/83\n",
      "235/235 [==============================] - 17s 72ms/step - loss: 0.0022\n",
      "Epoch 50/83\n",
      "235/235 [==============================] - 17s 72ms/step - loss: 0.0015\n",
      "Epoch 51/83\n",
      "235/235 [==============================] - 17s 74ms/step - loss: 0.0012\n",
      "Epoch 52/83\n",
      "235/235 [==============================] - 17s 74ms/step - loss: 0.0014\n",
      "Epoch 53/83\n",
      "235/235 [==============================] - 17s 71ms/step - loss: 0.0014\n",
      "Epoch 54/83\n",
      "235/235 [==============================] - 17s 72ms/step - loss: 0.0013\n",
      "Epoch 55/83\n",
      "235/235 [==============================] - 17s 72ms/step - loss: 0.0020\n",
      "Epoch 56/83\n",
      "235/235 [==============================] - 17s 72ms/step - loss: 0.0014\n",
      "Epoch 57/83\n",
      "235/235 [==============================] - 17s 74ms/step - loss: 0.0014\n",
      "Epoch 58/83\n",
      "235/235 [==============================] - 17s 73ms/step - loss: 0.0012\n",
      "Epoch 59/83\n",
      "235/235 [==============================] - 17s 74ms/step - loss: 0.0016\n",
      "Epoch 60/83\n",
      "235/235 [==============================] - 17s 72ms/step - loss: 0.0016\n",
      "Epoch 61/83\n",
      "235/235 [==============================] - 17s 72ms/step - loss: 0.0016\n",
      "Epoch 62/83\n",
      "235/235 [==============================] - 17s 72ms/step - loss: 0.0012\n",
      "Epoch 63/83\n",
      "235/235 [==============================] - 17s 72ms/step - loss: 0.0013\n",
      "Epoch 64/83\n",
      "235/235 [==============================] - 17s 73ms/step - loss: 0.0012\n",
      "Epoch 65/83\n",
      "235/235 [==============================] - 17s 73ms/step - loss: 0.0013\n",
      "Epoch 66/83\n",
      "235/235 [==============================] - 18s 76ms/step - loss: 0.0015\n",
      "Epoch 67/83\n",
      "235/235 [==============================] - 17s 72ms/step - loss: 0.0015\n",
      "Epoch 68/83\n",
      "235/235 [==============================] - 17s 74ms/step - loss: 0.0014\n",
      "Epoch 69/83\n",
      "235/235 [==============================] - 17s 72ms/step - loss: 0.0014\n",
      "Epoch 70/83\n",
      "235/235 [==============================] - 17s 72ms/step - loss: 0.0015\n",
      "Epoch 71/83\n",
      "235/235 [==============================] - 17s 72ms/step - loss: 0.0014\n",
      "Epoch 72/83\n",
      "235/235 [==============================] - 17s 73ms/step - loss: 0.0014\n",
      "Epoch 73/83\n",
      "235/235 [==============================] - 17s 74ms/step - loss: 0.0015\n",
      "Epoch 74/83\n",
      "235/235 [==============================] - 17s 73ms/step - loss: 0.0013\n",
      "Epoch 75/83\n",
      "235/235 [==============================] - 17s 72ms/step - loss: 0.0017\n",
      "Epoch 76/83\n",
      "235/235 [==============================] - 17s 73ms/step - loss: 0.0011\n",
      "Epoch 77/83\n",
      "235/235 [==============================] - 17s 73ms/step - loss: 0.0014\n",
      "Epoch 78/83\n",
      "235/235 [==============================] - 17s 73ms/step - loss: 0.0014\n",
      "Epoch 79/83\n",
      "235/235 [==============================] - 17s 73ms/step - loss: 0.0016\n",
      "Epoch 80/83\n",
      "235/235 [==============================] - 17s 74ms/step - loss: 0.0012\n",
      "Epoch 81/83\n",
      "235/235 [==============================] - 17s 73ms/step - loss: 0.0012\n",
      "Epoch 82/83\n",
      "235/235 [==============================] - 17s 72ms/step - loss: 0.0012\n",
      "Epoch 83/83\n",
      "235/235 [==============================] - 17s 72ms/step - loss: 0.0011\n"
     ]
    },
    {
     "data": {
      "text/plain": [
       "<tensorflow.python.keras.callbacks.History at 0x2c3ca40de80>"
      ]
     },
     "execution_count": 19,
     "metadata": {},
     "output_type": "execute_result"
    }
   ],
   "source": [
    "model.fit_generator(train_generator,epochs=83)"
   ]
  },
  {
   "cell_type": "code",
   "execution_count": null,
   "metadata": {},
   "outputs": [],
   "source": []
  },
  {
   "cell_type": "code",
   "execution_count": 20,
   "metadata": {},
   "outputs": [
    {
     "data": {
      "text/plain": [
       "dict_keys(['loss'])"
      ]
     },
     "execution_count": 20,
     "metadata": {},
     "output_type": "execute_result"
    }
   ],
   "source": [
    "model.history.history.keys()"
   ]
  },
  {
   "cell_type": "code",
   "execution_count": 21,
   "metadata": {
    "scrolled": false
   },
   "outputs": [
    {
     "data": {
      "text/plain": [
       "[<matplotlib.lines.Line2D at 0x2c3d61e79d0>]"
      ]
     },
     "execution_count": 21,
     "metadata": {},
     "output_type": "execute_result"
    },
    {
     "data": {
      "image/png": "[encoded data removed]",
      "text/plain": [
       "<Figure size 432x288 with 1 Axes>"
      ]
     },
     "metadata": {
      "needs_background": "light"
     },
     "output_type": "display_data"
    }
   ],
   "source": [
    "loss_per_epoch = model.history.history['loss']\n",
    "plt.plot(range(len(loss_per_epoch)),loss_per_epoch)"
   ]
  },
  {
   "cell_type": "code",
   "execution_count": 22,
   "metadata": {},
   "outputs": [
    {
     "data": {
      "image/png": "[encoded data removed]",
      "text/plain": [
       "<Figure size 432x288 with 1 Axes>"
      ]
     },
     "metadata": {
      "needs_background": "light"
     },
     "output_type": "display_data"
    }
   ],
   "source": [
    "def smooth_curve(points, factor=0.9):\n",
    "  smoothed_points = []\n",
    "  for point in points:\n",
    "    if smoothed_points:\n",
    "      previous = smoothed_points[-1]\n",
    "      smoothed_points.append(previous * factor + point * (1 - factor))\n",
    "    else:\n",
    "      smoothed_points.append(point)\n",
    "  return smoothed_points\n",
    "\n",
    "smooth_mae_history = smooth_curve(loss_per_epoch[5:])\n",
    "\n",
    "plt.plot(range(1, len(smooth_mae_history) + 1), smooth_mae_history)\n",
    "plt.xlabel('Epochs')\n",
    "plt.ylabel('Validation MAE')\n",
    "plt.show()"
   ]
  },
  {
   "cell_type": "code",
   "execution_count": 23,
   "metadata": {},
   "outputs": [],
   "source": [
    "# 10 history steps --> step 13\n",
    "# last 10 points in train --> pt 1 in test data\n",
    "first_eval_batch = scaled_train[-n_input:]"
   ]
  },
  {
   "cell_type": "code",
   "execution_count": 24,
   "metadata": {},
   "outputs": [
    {
     "data": {
      "text/plain": [
       "array([[0.27965581],\n",
       "       [0.28580209],\n",
       "       [0.27781192],\n",
       "       [0.29440688],\n",
       "       [0.2968654 ],\n",
       "       [0.29379226],\n",
       "       [0.30915796],\n",
       "       [0.32206515],\n",
       "       [0.33681623],\n",
       "       [0.35771358],\n",
       "       [0.36201598],\n",
       "       [0.37246466],\n",
       "       [0.40196681],\n",
       "       [0.40503995],\n",
       "       [0.42778119],\n",
       "       [0.45298095],\n",
       "       [0.45298095],\n",
       "       [0.46957591],\n",
       "       [0.48063921],\n",
       "       [0.49047326],\n",
       "       [0.49907806],\n",
       "       [0.52120467],\n",
       "       [0.52059004],\n",
       "       [0.51505839],\n",
       "       [0.51874616],\n",
       "       [0.52980947],\n",
       "       [0.52980947],\n",
       "       [0.537185  ],\n",
       "       [0.54640443],\n",
       "       [0.53534112]])"
      ]
     },
     "execution_count": 24,
     "metadata": {},
     "output_type": "execute_result"
    }
   ],
   "source": [
    "first_eval_batch"
   ]
  },
  {
   "cell_type": "code",
   "execution_count": 25,
   "metadata": {},
   "outputs": [],
   "source": [
    "first_eval_batch = first_eval_batch.reshape((1, n_input, n_features))# make it 3 dimensional"
   ]
  },
  {
   "cell_type": "code",
   "execution_count": 26,
   "metadata": {},
   "outputs": [
    {
     "data": {
      "text/plain": [
       "array([[0.53312993]], dtype=float32)"
      ]
     },
     "execution_count": 26,
     "metadata": {},
     "output_type": "execute_result"
    }
   ],
   "source": [
    "model.predict(first_eval_batch)"
   ]
  },
  {
   "cell_type": "code",
   "execution_count": 27,
   "metadata": {},
   "outputs": [
    {
     "data": {
      "text/plain": [
       "array([-0.09219422])"
      ]
     },
     "execution_count": 27,
     "metadata": {},
     "output_type": "execute_result"
    }
   ],
   "source": [
    "scaled_test[0]"
   ]
  },
  {
   "cell_type": "code",
   "execution_count": 28,
   "metadata": {},
   "outputs": [],
   "source": [
    "test_predictions = []\n",
    "\n",
    "# last n_input points from the training set\n",
    "first_eval_batch = scaled_train[-n_input:]\n",
    "\n",
    "# reshape this to the format RNN wants(same format as TimeSeries Generator)\n",
    "current_batch = first_eval_batch.reshape((1, n_input, n_features))\n",
    "\n",
    "#how far into the future will I forecast?\n",
    "#len(test) -->I can also change to 24\n",
    "\n",
    "for i in range(len(test)):\n",
    "    \n",
    "    # get prediction 1 time stamp ahead ([0] is for grabbing just the number instead of [array])\n",
    "    current_pred = model.predict(current_batch)[0]\n",
    "    \n",
    "    # store prediction\n",
    "    test_predictions.append(current_pred) \n",
    "    \n",
    "    # update batch to now include prediction and drop first value\n",
    "    current_batch = np.append(current_batch[:,1:,:],[[current_pred]],axis=1)"
   ]
  },
  {
   "cell_type": "code",
   "execution_count": 29,
   "metadata": {},
   "outputs": [
    {
     "data": {
      "text/plain": [
       "[array([0.53312993], dtype=float32),\n",
       " array([0.5302373], dtype=float32),\n",
       " array([0.525263], dtype=float32),\n",
       " array([0.51873344], dtype=float32),\n",
       " array([0.51072633], dtype=float32),\n",
       " array([0.5013535], dtype=float32),\n",
       " array([0.49065843], dtype=float32),\n",
       " array([0.47859988], dtype=float32),\n",
       " array([0.46508527], dtype=float32),\n",
       " array([0.4500224], dtype=float32),\n",
       " array([0.43321377], dtype=float32),\n",
       " array([0.41458127], dtype=float32),\n",
       " array([0.39413723], dtype=float32),\n",
       " array([0.3721965], dtype=float32),\n",
       " array([0.348867], dtype=float32),\n",
       " array([0.32394528], dtype=float32),\n",
       " array([0.29739827], dtype=float32),\n",
       " array([0.26981926], dtype=float32),\n",
       " array([0.24175608], dtype=float32),\n",
       " array([0.21352793], dtype=float32),\n",
       " array([0.18567164], dtype=float32),\n",
       " array([0.15886402], dtype=float32),\n",
       " array([0.13344133], dtype=float32),\n",
       " array([0.10944965], dtype=float32),\n",
       " array([0.08667332], dtype=float32),\n",
       " array([0.06506538], dtype=float32),\n",
       " array([0.04440033], dtype=float32),\n",
       " array([0.02448738], dtype=float32),\n",
       " array([0.0053041], dtype=float32),\n",
       " array([-0.0133194], dtype=float32)]"
      ]
     },
     "execution_count": 29,
     "metadata": {},
     "output_type": "execute_result"
    }
   ],
   "source": [
    "test_predictions"
   ]
  },
  {
   "cell_type": "code",
   "execution_count": 30,
   "metadata": {},
   "outputs": [
    {
     "data": {
      "text/plain": [
       "array([[-0.09219422],\n",
       "       [-0.09219422],\n",
       "       [-0.0983405 ],\n",
       "       [-0.09649662],\n",
       "       [-0.09403811],\n",
       "       [-0.09403811],\n",
       "       [-0.09280885],\n",
       "       [-0.08973571],\n",
       "       [-0.08666257],\n",
       "       [-0.08543331],\n",
       "       [-0.08481868],\n",
       "       [-0.07682852],\n",
       "       [-0.07375538],\n",
       "       [-0.0633067 ],\n",
       "       [-0.05285802],\n",
       "       [-0.03995083],\n",
       "       [-0.01843884],\n",
       "       [ 0.00245851],\n",
       "       [ 0.03749232],\n",
       "       [ 0.07682852],\n",
       "       [ 0.12169637],\n",
       "       [ 0.15980332],\n",
       "       [ 0.19913952],\n",
       "       [ 0.22618316],\n",
       "       [ 0.23847572],\n",
       "       [ 0.23909035],\n",
       "       [ 0.23724647],\n",
       "       [ 0.23786109],\n",
       "       [ 0.23724647],\n",
       "       [ 0.23724647]])"
      ]
     },
     "execution_count": 30,
     "metadata": {},
     "output_type": "execute_result"
    }
   ],
   "source": [
    "scaled_test"
   ]
  },
  {
   "cell_type": "code",
   "execution_count": 31,
   "metadata": {},
   "outputs": [],
   "source": [
    "true_predictions = scaler.inverse_transform(test_predictions)"
   ]
  },
  {
   "cell_type": "code",
   "execution_count": 32,
   "metadata": {},
   "outputs": [
    {
     "data": {
      "text/plain": [
       "array([[1271.40239692],\n",
       "       [1266.6961149 ],\n",
       "       [1258.60291964],\n",
       "       [1247.97930986],\n",
       "       [1234.95174325],\n",
       "       [1219.7021482 ],\n",
       "       [1202.30126926],\n",
       "       [1182.68199852],\n",
       "       [1160.69373107],\n",
       "       [1136.18644387],\n",
       "       [1108.83880442],\n",
       "       [1078.5237247 ],\n",
       "       [1045.2612789 ],\n",
       "       [1009.56369823],\n",
       "       [ 971.60660762],\n",
       "       [ 931.05897689],\n",
       "       [ 887.86698395],\n",
       "       [ 842.99593544],\n",
       "       [ 797.33714473],\n",
       "       [ 751.40994661],\n",
       "       [ 706.08776222],\n",
       "       [ 662.47176266],\n",
       "       [ 621.10904229],\n",
       "       [ 582.07458839],\n",
       "       [ 545.01749057],\n",
       "       [ 509.86137962],\n",
       "       [ 476.239344  ],\n",
       "       [ 443.8409611 ],\n",
       "       [ 412.62976766],\n",
       "       [ 382.32933143]])"
      ]
     },
     "execution_count": 32,
     "metadata": {},
     "output_type": "execute_result"
    }
   ],
   "source": [
    "true_predictions"
   ]
  },
  {
   "cell_type": "code",
   "execution_count": 33,
   "metadata": {},
   "outputs": [],
   "source": [
    "test['Predictions'] = true_predictions"
   ]
  },
  {
   "cell_type": "code",
   "execution_count": null,
   "metadata": {},
   "outputs": [],
   "source": []
  },
  {
   "cell_type": "code",
   "execution_count": 34,
   "metadata": {},
   "outputs": [
    {
     "data": {
      "image/png": "[encoded data removed]",
      "text/plain": [
       "<Figure size 432x288 with 1 Axes>"
      ]
     },
     "metadata": {
      "needs_background": "light"
     },
     "output_type": "display_data"
    }
   ],
   "source": [
    "fig=plt.figure()\n",
    "ax=fig.add_axes([0,0,1,1])\n",
    "test_2 = test.reset_index()\n",
    "ax.scatter(test_2['WTI_Oil_Price'], test_2['Rigs_Count'], color='r',label = \"Actual Rigs Count\")\n",
    "ax.scatter(test_2['WTI_Oil_Price'], test_2['Predictions'], color='b', label = \"Predictions\")\n",
    "ax.set_xlabel('WTI Oil Price')\n",
    "ax.set_ylabel('Rigs Count')\n",
    "ax.set_title('scatter plot')\n",
    "plt.legend()\n",
    "plt.show()"
   ]
  },
  {
   "cell_type": "code",
   "execution_count": null,
   "metadata": {},
   "outputs": [],
   "source": []
  },
  {
   "cell_type": "code",
   "execution_count": null,
   "metadata": {},
   "outputs": [],
   "source": []
  },
  {
   "cell_type": "code",
   "execution_count": null,
   "metadata": {},
   "outputs": [],
   "source": []
  },
  {
   "cell_type": "code",
   "execution_count": null,
   "metadata": {},
   "outputs": [],
   "source": []
  },
  {
   "cell_type": "code",
   "execution_count": null,
   "metadata": {},
   "outputs": [],
   "source": []
  },
  {
   "cell_type": "code",
   "execution_count": null,
   "metadata": {},
   "outputs": [],
   "source": []
  }
 ],
 "metadata": {
  "kernelspec": {
   "display_name": "P_TF",
   "language": "python",
   "name": "tf"
  },
  "language_info": {
   "codemirror_mode": {
    "name": "ipython",
    "version": 3
   },
   "file_extension": ".py",
   "mimetype": "text/x-python",
   "name": "python",
   "nbconvert_exporter": "python",
   "pygments_lexer": "ipython3",
   "version": "3.8.3"
  }
 },
 "nbformat": 4,
 "nbformat_minor": 4
}
